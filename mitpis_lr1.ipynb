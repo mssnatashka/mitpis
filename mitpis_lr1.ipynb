{
 "cells": [
  {
   "cell_type": "code",
   "execution_count": 7,
   "metadata": {},
   "outputs": [],
   "source": [
    "# импорт библиотеки pandas\n",
    "import pandas as pd"
   ]
  },
  {
   "cell_type": "code",
   "execution_count": 8,
   "metadata": {},
   "outputs": [],
   "source": [
    "#чтение датасета с помощью библиотеки pandas\n",
    "df = pd.read_csv('5music.csv')"
   ]
  },
  {
   "cell_type": "markdown",
   "metadata": {},
   "source": [
    "## Вывести первые 20 строк с помощью head:"
   ]
  },
  {
   "cell_type": "code",
   "execution_count": 9,
   "metadata": {},
   "outputs": [
    {
     "data": {
      "text/html": [
       "<div>\n",
       "<style scoped>\n",
       "    .dataframe tbody tr th:only-of-type {\n",
       "        vertical-align: middle;\n",
       "    }\n",
       "\n",
       "    .dataframe tbody tr th {\n",
       "        vertical-align: top;\n",
       "    }\n",
       "\n",
       "    .dataframe thead th {\n",
       "        text-align: right;\n",
       "    }\n",
       "</style>\n",
       "<table border=\"1\" class=\"dataframe\">\n",
       "  <thead>\n",
       "    <tr style=\"text-align: right;\">\n",
       "      <th></th>\n",
       "      <th>userID</th>\n",
       "      <th>trackname</th>\n",
       "      <th>Artistname</th>\n",
       "      <th>genre</th>\n",
       "      <th>City</th>\n",
       "      <th>time</th>\n",
       "      <th>Dayweek;;</th>\n",
       "    </tr>\n",
       "  </thead>\n",
       "  <tbody>\n",
       "    <tr>\n",
       "      <th>0</th>\n",
       "      <td>FFB692EC</td>\n",
       "      <td>Kamigata To Boots</td>\n",
       "      <td>The Mass Missile</td>\n",
       "      <td>rock</td>\n",
       "      <td>Saint-Petersburg</td>\n",
       "      <td>20:28:33</td>\n",
       "      <td>Wednesday;;</td>\n",
       "    </tr>\n",
       "    <tr>\n",
       "      <th>1</th>\n",
       "      <td>55204538</td>\n",
       "      <td>Delayed Because of Accident</td>\n",
       "      <td>Andreas Rönnberg</td>\n",
       "      <td>rock</td>\n",
       "      <td>Moscow</td>\n",
       "      <td>14:07:09</td>\n",
       "      <td>Friday;;</td>\n",
       "    </tr>\n",
       "    <tr>\n",
       "      <th>2</th>\n",
       "      <td>20EC38</td>\n",
       "      <td>Funiculì funiculà</td>\n",
       "      <td>Mario Lanza</td>\n",
       "      <td>pop</td>\n",
       "      <td>Saint-Petersburg</td>\n",
       "      <td>20:58:07</td>\n",
       "      <td>Wednesday;;</td>\n",
       "    </tr>\n",
       "    <tr>\n",
       "      <th>3</th>\n",
       "      <td>A3DD03C9</td>\n",
       "      <td>Dragons in the Sunset</td>\n",
       "      <td>Fire + Ice</td>\n",
       "      <td>folk</td>\n",
       "      <td>Saint-Petersburg</td>\n",
       "      <td>08:37:09</td>\n",
       "      <td>Monday;;</td>\n",
       "    </tr>\n",
       "    <tr>\n",
       "      <th>4</th>\n",
       "      <td>E2DC1FAE</td>\n",
       "      <td>Soul People</td>\n",
       "      <td>Space Echo</td>\n",
       "      <td>dance</td>\n",
       "      <td>Moscow</td>\n",
       "      <td>08:34:34</td>\n",
       "      <td>Monday;;</td>\n",
       "    </tr>\n",
       "    <tr>\n",
       "      <th>5</th>\n",
       "      <td>842029A1</td>\n",
       "      <td>Преданная</td>\n",
       "      <td>IMPERVTOR</td>\n",
       "      <td>rusrap</td>\n",
       "      <td>Saint-Petersburg</td>\n",
       "      <td>13:09:41</td>\n",
       "      <td>Friday;;</td>\n",
       "    </tr>\n",
       "    <tr>\n",
       "      <th>6</th>\n",
       "      <td>4CB90AA5</td>\n",
       "      <td>True</td>\n",
       "      <td>Roman Messer</td>\n",
       "      <td>dance</td>\n",
       "      <td>Moscow</td>\n",
       "      <td>13:00:07</td>\n",
       "      <td>Wednesday;;</td>\n",
       "    </tr>\n",
       "    <tr>\n",
       "      <th>7</th>\n",
       "      <td>F03E1C1F</td>\n",
       "      <td>Feeling This Way</td>\n",
       "      <td>Polina Griffith</td>\n",
       "      <td>dance</td>\n",
       "      <td>Moscow</td>\n",
       "      <td>20:47:49</td>\n",
       "      <td>Wednesday;;</td>\n",
       "    </tr>\n",
       "    <tr>\n",
       "      <th>8</th>\n",
       "      <td>8FA1D3BE</td>\n",
       "      <td>И вновь продолжается бой</td>\n",
       "      <td>NaN</td>\n",
       "      <td>ruspop</td>\n",
       "      <td>Moscow</td>\n",
       "      <td>09:17:40</td>\n",
       "      <td>Friday;;</td>\n",
       "    </tr>\n",
       "    <tr>\n",
       "      <th>9</th>\n",
       "      <td>E772D5C0</td>\n",
       "      <td>Pessimist</td>\n",
       "      <td>NaN</td>\n",
       "      <td>dance</td>\n",
       "      <td>Saint-Petersburg</td>\n",
       "      <td>21:20:49</td>\n",
       "      <td>Wednesday;;</td>\n",
       "    </tr>\n",
       "    <tr>\n",
       "      <th>10</th>\n",
       "      <td>BC5A3A29</td>\n",
       "      <td>Gool la Mita</td>\n",
       "      <td>Shireen Abdul Wahab</td>\n",
       "      <td>world</td>\n",
       "      <td>Moscow</td>\n",
       "      <td>14:08:42</td>\n",
       "      <td>Monday;;</td>\n",
       "    </tr>\n",
       "    <tr>\n",
       "      <th>11</th>\n",
       "      <td>8B5192C0</td>\n",
       "      <td>Is There Anybody Out There? (Panoramic Paralys...</td>\n",
       "      <td>Pink Floyd Floydhead</td>\n",
       "      <td>electronic</td>\n",
       "      <td>Moscow</td>\n",
       "      <td>13:47:49</td>\n",
       "      <td>Monday;;</td>\n",
       "    </tr>\n",
       "    <tr>\n",
       "      <th>12</th>\n",
       "      <td>FF3FD2BD</td>\n",
       "      <td>Мина син генэ кирэк</td>\n",
       "      <td>Ильдар Хакимов</td>\n",
       "      <td>pop</td>\n",
       "      <td>Moscow</td>\n",
       "      <td>09:19:49</td>\n",
       "      <td>Monday;;</td>\n",
       "    </tr>\n",
       "    <tr>\n",
       "      <th>13</th>\n",
       "      <td>CC782B0F</td>\n",
       "      <td>After School Special</td>\n",
       "      <td>Detroit Grand Pubahs</td>\n",
       "      <td>dance</td>\n",
       "      <td>Moscow</td>\n",
       "      <td>20:04:12</td>\n",
       "      <td>Friday;;</td>\n",
       "    </tr>\n",
       "    <tr>\n",
       "      <th>14</th>\n",
       "      <td>94EB25C2</td>\n",
       "      <td>Make Love Whenever You Can</td>\n",
       "      <td>Arabesque</td>\n",
       "      <td>pop</td>\n",
       "      <td>Saint-Petersburg</td>\n",
       "      <td>13:22:08</td>\n",
       "      <td>Wednesday;;</td>\n",
       "    </tr>\n",
       "    <tr>\n",
       "      <th>15</th>\n",
       "      <td>E3C5756F</td>\n",
       "      <td>NaN</td>\n",
       "      <td>NaN</td>\n",
       "      <td>NaN</td>\n",
       "      <td>Moscow</td>\n",
       "      <td>09:24:51</td>\n",
       "      <td>Monday;;</td>\n",
       "    </tr>\n",
       "    <tr>\n",
       "      <th>16</th>\n",
       "      <td>81D05C7D</td>\n",
       "      <td>SLAVES OF FEAR</td>\n",
       "      <td>HEALTH</td>\n",
       "      <td>alternative</td>\n",
       "      <td>Saint-Petersburg</td>\n",
       "      <td>20:54:48</td>\n",
       "      <td>Monday;;</td>\n",
       "    </tr>\n",
       "    <tr>\n",
       "      <th>17</th>\n",
       "      <td>39DE290E</td>\n",
       "      <td>Веснянка</td>\n",
       "      <td>Веданъ Колодъ</td>\n",
       "      <td>folk</td>\n",
       "      <td>Saint-Petersburg</td>\n",
       "      <td>14:36:47</td>\n",
       "      <td>Monday;;</td>\n",
       "    </tr>\n",
       "    <tr>\n",
       "      <th>18</th>\n",
       "      <td>58AE138A</td>\n",
       "      <td>Pat-a-Cake</td>\n",
       "      <td>Mother Goose Club</td>\n",
       "      <td>children</td>\n",
       "      <td>Saint-Petersburg</td>\n",
       "      <td>20:04:56</td>\n",
       "      <td>Monday;;</td>\n",
       "    </tr>\n",
       "    <tr>\n",
       "      <th>19</th>\n",
       "      <td>772F5B59</td>\n",
       "      <td>Sweetback</td>\n",
       "      <td>The Fabulous Three</td>\n",
       "      <td>rnb</td>\n",
       "      <td>Moscow</td>\n",
       "      <td>13:56:42</td>\n",
       "      <td>Wednesday;;</td>\n",
       "    </tr>\n",
       "  </tbody>\n",
       "</table>\n",
       "</div>"
      ],
      "text/plain": [
       "      userID                                          trackname  \\\n",
       "0   FFB692EC                                  Kamigata To Boots   \n",
       "1   55204538                        Delayed Because of Accident   \n",
       "2     20EC38                                  Funiculì funiculà   \n",
       "3   A3DD03C9                              Dragons in the Sunset   \n",
       "4   E2DC1FAE                                        Soul People   \n",
       "5   842029A1                                          Преданная   \n",
       "6   4CB90AA5                                               True   \n",
       "7   F03E1C1F                                   Feeling This Way   \n",
       "8   8FA1D3BE                           И вновь продолжается бой   \n",
       "9   E772D5C0                                          Pessimist   \n",
       "10  BC5A3A29                                       Gool la Mita   \n",
       "11  8B5192C0  Is There Anybody Out There? (Panoramic Paralys...   \n",
       "12  FF3FD2BD                                Мина син генэ кирэк   \n",
       "13  CC782B0F                               After School Special   \n",
       "14  94EB25C2                         Make Love Whenever You Can   \n",
       "15  E3C5756F                                                NaN   \n",
       "16  81D05C7D                                     SLAVES OF FEAR   \n",
       "17  39DE290E                                           Веснянка   \n",
       "18  58AE138A                                         Pat-a-Cake   \n",
       "19  772F5B59                                          Sweetback   \n",
       "\n",
       "              Artistname        genre            City        time    Dayweek;;  \n",
       "0       The Mass Missile         rock  Saint-Petersburg  20:28:33  Wednesday;;  \n",
       "1       Andreas Rönnberg         rock            Moscow  14:07:09     Friday;;  \n",
       "2            Mario Lanza          pop  Saint-Petersburg  20:58:07  Wednesday;;  \n",
       "3             Fire + Ice         folk  Saint-Petersburg  08:37:09     Monday;;  \n",
       "4             Space Echo        dance            Moscow  08:34:34     Monday;;  \n",
       "5              IMPERVTOR       rusrap  Saint-Petersburg  13:09:41     Friday;;  \n",
       "6           Roman Messer        dance            Moscow  13:00:07  Wednesday;;  \n",
       "7        Polina Griffith        dance            Moscow  20:47:49  Wednesday;;  \n",
       "8                    NaN       ruspop            Moscow  09:17:40     Friday;;  \n",
       "9                    NaN        dance  Saint-Petersburg  21:20:49  Wednesday;;  \n",
       "10   Shireen Abdul Wahab        world            Moscow  14:08:42     Monday;;  \n",
       "11  Pink Floyd Floydhead   electronic            Moscow  13:47:49     Monday;;  \n",
       "12        Ильдар Хакимов          pop            Moscow  09:19:49     Monday;;  \n",
       "13  Detroit Grand Pubahs        dance            Moscow  20:04:12     Friday;;  \n",
       "14             Arabesque          pop  Saint-Petersburg  13:22:08  Wednesday;;  \n",
       "15                   NaN          NaN            Moscow  09:24:51     Monday;;  \n",
       "16                HEALTH  alternative  Saint-Petersburg  20:54:48     Monday;;  \n",
       "17         Веданъ Колодъ         folk  Saint-Petersburg  14:36:47     Monday;;  \n",
       "18     Mother Goose Club     children  Saint-Petersburg  20:04:56     Monday;;  \n",
       "19    The Fabulous Three          rnb            Moscow  13:56:42  Wednesday;;  "
      ]
     },
     "execution_count": 9,
     "metadata": {},
     "output_type": "execute_result"
    }
   ],
   "source": [
    "df.head(20)"
   ]
  },
  {
   "cell_type": "markdown",
   "metadata": {},
   "source": [
    "## Выполнить обзор данных – опишите колонки и вашу предметную область: \n",
    "\n",
    "### Предметаная обласать - музыка. \n",
    "Мы можем узнать название песни, исполнителя, жанр, идентификатор пользователя. \n",
    "\n",
    "Насчет времени сложно сказать, что это продолжительность песни, возможно, это время проигрывания, например на радио, время, в которое пользоватекль начал прослушаивать песню. \n",
    "\n",
    "Можно предположить, что идет сравнение пользователь в двух городах Спб и Мск, а также сравнение жанров по дням недели (какой жанр в какой день предпочтительнее).\n",
    "\n",
    "Датасет содержит следующие колонки:\n",
    "- userID - идентификатор пользователя,\n",
    "- trackname - название песни,\n",
    "- Artistname - исполнитель,\n",
    "- genre - жанр,\n",
    "- City - город,\n",
    "- time - время,\n",
    "- DayWeek - день недели."
   ]
  },
  {
   "cell_type": "code",
   "execution_count": 10,
   "metadata": {},
   "outputs": [
    {
     "name": "stdout",
     "output_type": "stream",
     "text": [
      "<class 'pandas.core.frame.DataFrame'>\n",
      "RangeIndex: 65215 entries, 0 to 65214\n",
      "Data columns (total 7 columns):\n",
      " #   Column      Non-Null Count  Dtype \n",
      "---  ------      --------------  ----- \n",
      " 0     userID    65215 non-null  object\n",
      " 1   trackname   63256 non-null  object\n",
      " 2   Artistname  57330 non-null  object\n",
      " 3   genre       63292 non-null  object\n",
      " 4     City      64487 non-null  object\n",
      " 5   time        64487 non-null  object\n",
      " 6   Dayweek;;   64485 non-null  object\n",
      "dtypes: object(7)\n",
      "memory usage: 3.5+ MB\n"
     ]
    }
   ],
   "source": [
    "#оценка данных\n",
    "df.info()"
   ]
  },
  {
   "cell_type": "markdown",
   "metadata": {},
   "source": [
    "### С помощью метода .info оцените данные. \n",
    "### Этот метод возвращает название столбцов, типы данных, количество ненулевых объектов каждом столбце.\n",
    "\n",
    "- В датасете содержится 65215 строк, 7 столбцов. \n",
    "- У всех полей тип данных - object. \n",
    "- Присувтствуют некорректные названия столбцов. \n",
    "- Количество значений в столбцах различается. Значит, в данных есть пропущенные значения.\n"
   ]
  },
  {
   "cell_type": "code",
   "execution_count": 12,
   "metadata": {},
   "outputs": [
    {
     "data": {
      "text/plain": [
       "Index(['  userID', 'trackname', 'Artistname', 'genre', '  City  ', 'time',\n",
       "       'Dayweek;;'],\n",
       "      dtype='object')"
      ]
     },
     "execution_count": 12,
     "metadata": {},
     "output_type": "execute_result"
    }
   ],
   "source": [
    "#вывод названий столбцов\n",
    "df.columns"
   ]
  },
  {
   "cell_type": "markdown",
   "metadata": {},
   "source": [
    "### Проблемы с названиями столбцов:\n",
    "- присутсвие пробелов в названии(столбцы: city, userID),\n",
    "- cтрочные буквы сочетаются с прописными(Artistname, City, Dayweek),\n",
    "- лишние символы в названии столбца Dayweek,\n",
    "- отсутсиве \"змеиного стиля\" (присутсвие нижнего подчеркивания) при названии из нескольких слов (userID, trackname, Artistname, Dayweek).\n"
   ]
  },
  {
   "cell_type": "code",
   "execution_count": 13,
   "metadata": {},
   "outputs": [
    {
     "data": {
      "text/plain": [
       "Index(['  userid', 'trackname', 'artistname', 'genre', '  city  ', 'time',\n",
       "       'dayweek;;'],\n",
       "      dtype='object')"
      ]
     },
     "execution_count": 13,
     "metadata": {},
     "output_type": "execute_result"
    }
   ],
   "source": [
    "#приводим все наименования к нижнему регистру\n",
    "df.columns = df.columns.str.lower()\n",
    "df.columns"
   ]
  },
  {
   "cell_type": "code",
   "execution_count": 14,
   "metadata": {},
   "outputs": [
    {
     "data": {
      "text/plain": [
       "Index(['user_id', 'track_name', 'artist_name', 'genre', 'city', 'time',\n",
       "       'day_week'],\n",
       "      dtype='object')"
      ]
     },
     "execution_count": 14,
     "metadata": {},
     "output_type": "execute_result"
    }
   ],
   "source": [
    "#переименования столбцов\n",
    "df=df.rename(columns={'  userid': 'user_id', 'trackname':\n",
    "'track_name', 'artistname': 'artist_name', '  city  ': 'city', 'dayweek;;': 'day_week'})\n",
    "df.columns\n"
   ]
  },
  {
   "cell_type": "code",
   "execution_count": 11,
   "metadata": {},
   "outputs": [
    {
     "name": "stdout",
     "output_type": "stream",
     "text": [
      "<class 'pandas.core.frame.DataFrame'>\n",
      "RangeIndex: 65215 entries, 0 to 65214\n",
      "Data columns (total 7 columns):\n",
      " #   Column      Non-Null Count  Dtype \n",
      "---  ------      --------------  ----- \n",
      " 0     userID    65215 non-null  object\n",
      " 1   trackname   63256 non-null  string\n",
      " 2   Artistname  57330 non-null  object\n",
      " 3   genre       63292 non-null  object\n",
      " 4     City      64487 non-null  object\n",
      " 5   time        64487 non-null  object\n",
      " 6   Dayweek;;   64485 non-null  object\n",
      "dtypes: object(6), string(1)\n",
      "memory usage: 3.5+ MB\n"
     ]
    }
   ],
   "source": [
    "df['trackname'] = df['trackname'].astype('string')\n",
    "df.info()"
   ]
  },
  {
   "cell_type": "markdown",
   "metadata": {},
   "source": [
    "## Поиск дубликатов данных"
   ]
  }
 ],
 "metadata": {
  "kernelspec": {
   "display_name": "Python 3.11.0 64-bit",
   "language": "python",
   "name": "python3"
  },
  "language_info": {
   "codemirror_mode": {
    "name": "ipython",
    "version": 3
   },
   "file_extension": ".py",
   "mimetype": "text/x-python",
   "name": "python",
   "nbconvert_exporter": "python",
   "pygments_lexer": "ipython3",
   "version": "3.11.0"
  },
  "orig_nbformat": 4,
  "vscode": {
   "interpreter": {
    "hash": "50a17cd135f3ff7b94e4d5503d34804a58c061f53563269d9889802dc3de092d"
   }
  }
 },
 "nbformat": 4,
 "nbformat_minor": 2
}
