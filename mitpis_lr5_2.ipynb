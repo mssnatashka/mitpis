{
 "cells": [
  {
   "cell_type": "code",
   "execution_count": 2,
   "metadata": {},
   "outputs": [],
   "source": [
    "import pandas as pd\n",
    "import numpy as np\n",
    "from IPython.display import display\n",
    "from scipy import stats as st\n",
    "import math as mth\n",
    "import matplotlib.pyplot as plt \n",
    "import seaborn as sns\n",
    "sns.set(rc={'figure.figsize':(16, 9)})\n",
    "from plotly import graph_objects as go\n",
    "import plotly.express as px"
   ]
  },
  {
   "cell_type": "code",
   "execution_count": 3,
   "metadata": {},
   "outputs": [],
   "source": [
    "df = pd.read_csv('logs_exp.csv', sep='\\t')\n",
    "\n",
    "pd.set_option('display.max_columns', None)\n",
    "pd.options.display.float_format = '{:,.2f}'.format"
   ]
  },
  {
   "cell_type": "code",
   "execution_count": 4,
   "metadata": {},
   "outputs": [
    {
     "data": {
      "text/html": [
       "<div>\n",
       "<style scoped>\n",
       "    .dataframe tbody tr th:only-of-type {\n",
       "        vertical-align: middle;\n",
       "    }\n",
       "\n",
       "    .dataframe tbody tr th {\n",
       "        vertical-align: top;\n",
       "    }\n",
       "\n",
       "    .dataframe thead th {\n",
       "        text-align: right;\n",
       "    }\n",
       "</style>\n",
       "<table border=\"1\" class=\"dataframe\">\n",
       "  <thead>\n",
       "    <tr style=\"text-align: right;\">\n",
       "      <th></th>\n",
       "      <th>EventName</th>\n",
       "      <th>DeviceIDHash</th>\n",
       "      <th>EventTimestamp</th>\n",
       "      <th>ExpId</th>\n",
       "    </tr>\n",
       "  </thead>\n",
       "  <tbody>\n",
       "    <tr>\n",
       "      <th>0</th>\n",
       "      <td>MainScreenAppear</td>\n",
       "      <td>4575588528974610257</td>\n",
       "      <td>1564029816</td>\n",
       "      <td>246</td>\n",
       "    </tr>\n",
       "    <tr>\n",
       "      <th>1</th>\n",
       "      <td>MainScreenAppear</td>\n",
       "      <td>7416695313311560658</td>\n",
       "      <td>1564053102</td>\n",
       "      <td>246</td>\n",
       "    </tr>\n",
       "    <tr>\n",
       "      <th>2</th>\n",
       "      <td>PaymentScreenSuccessful</td>\n",
       "      <td>3518123091307005509</td>\n",
       "      <td>1564054127</td>\n",
       "      <td>248</td>\n",
       "    </tr>\n",
       "    <tr>\n",
       "      <th>3</th>\n",
       "      <td>CartScreenAppear</td>\n",
       "      <td>3518123091307005509</td>\n",
       "      <td>1564054127</td>\n",
       "      <td>248</td>\n",
       "    </tr>\n",
       "    <tr>\n",
       "      <th>4</th>\n",
       "      <td>PaymentScreenSuccessful</td>\n",
       "      <td>6217807653094995999</td>\n",
       "      <td>1564055322</td>\n",
       "      <td>248</td>\n",
       "    </tr>\n",
       "  </tbody>\n",
       "</table>\n",
       "</div>"
      ],
      "text/plain": [
       "                 EventName         DeviceIDHash  EventTimestamp  ExpId\n",
       "0         MainScreenAppear  4575588528974610257      1564029816    246\n",
       "1         MainScreenAppear  7416695313311560658      1564053102    246\n",
       "2  PaymentScreenSuccessful  3518123091307005509      1564054127    248\n",
       "3         CartScreenAppear  3518123091307005509      1564054127    248\n",
       "4  PaymentScreenSuccessful  6217807653094995999      1564055322    248"
      ]
     },
     "execution_count": 4,
     "metadata": {},
     "output_type": "execute_result"
    }
   ],
   "source": [
    "df.head()"
   ]
  },
  {
   "cell_type": "code",
   "execution_count": 5,
   "metadata": {},
   "outputs": [
    {
     "name": "stdout",
     "output_type": "stream",
     "text": [
      "<class 'pandas.core.frame.DataFrame'>\n",
      "RangeIndex: 244126 entries, 0 to 244125\n",
      "Data columns (total 4 columns):\n",
      " #   Column          Non-Null Count   Dtype \n",
      "---  ------          --------------   ----- \n",
      " 0   EventName       244126 non-null  object\n",
      " 1   DeviceIDHash    244126 non-null  int64 \n",
      " 2   EventTimestamp  244126 non-null  int64 \n",
      " 3   ExpId           244126 non-null  int64 \n",
      "dtypes: int64(3), object(1)\n",
      "memory usage: 7.5+ MB\n"
     ]
    }
   ],
   "source": [
    "df.info()"
   ]
  },
  {
   "cell_type": "code",
   "execution_count": 6,
   "metadata": {},
   "outputs": [
    {
     "data": {
      "text/html": [
       "<div>\n",
       "<style scoped>\n",
       "    .dataframe tbody tr th:only-of-type {\n",
       "        vertical-align: middle;\n",
       "    }\n",
       "\n",
       "    .dataframe tbody tr th {\n",
       "        vertical-align: top;\n",
       "    }\n",
       "\n",
       "    .dataframe thead th {\n",
       "        text-align: right;\n",
       "    }\n",
       "</style>\n",
       "<table border=\"1\" class=\"dataframe\">\n",
       "  <thead>\n",
       "    <tr style=\"text-align: right;\">\n",
       "      <th></th>\n",
       "      <th>event_name</th>\n",
       "      <th>user_id</th>\n",
       "      <th>event_timestamp</th>\n",
       "      <th>exp_id</th>\n",
       "    </tr>\n",
       "  </thead>\n",
       "  <tbody>\n",
       "    <tr>\n",
       "      <th>86167</th>\n",
       "      <td>MainScreenAppear</td>\n",
       "      <td>6838581104592469621</td>\n",
       "      <td>1564828596</td>\n",
       "      <td>247</td>\n",
       "    </tr>\n",
       "  </tbody>\n",
       "</table>\n",
       "</div>"
      ],
      "text/plain": [
       "             event_name              user_id  event_timestamp  exp_id\n",
       "86167  MainScreenAppear  6838581104592469621       1564828596     247"
      ]
     },
     "execution_count": 6,
     "metadata": {},
     "output_type": "execute_result"
    }
   ],
   "source": [
    "#переименовка колонок\n",
    "df.rename(columns = {'EventName':'event_name', 'DeviceIDHash':'user_id', 'EventTimestamp':'event_timestamp', 'ExpId':'exp_id'}, inplace = True)\n",
    "df.sample()"
   ]
  },
  {
   "cell_type": "code",
   "execution_count": 7,
   "metadata": {
    "scrolled": true
   },
   "outputs": [
    {
     "data": {
      "text/html": [
       "<div>\n",
       "<style scoped>\n",
       "    .dataframe tbody tr th:only-of-type {\n",
       "        vertical-align: middle;\n",
       "    }\n",
       "\n",
       "    .dataframe tbody tr th {\n",
       "        vertical-align: top;\n",
       "    }\n",
       "\n",
       "    .dataframe thead th {\n",
       "        text-align: right;\n",
       "    }\n",
       "</style>\n",
       "<table border=\"1\" class=\"dataframe\">\n",
       "  <thead>\n",
       "    <tr style=\"text-align: right;\">\n",
       "      <th></th>\n",
       "      <th>event_name</th>\n",
       "      <th>user_id</th>\n",
       "      <th>event_timestamp</th>\n",
       "      <th>exp_id</th>\n",
       "    </tr>\n",
       "  </thead>\n",
       "  <tbody>\n",
       "    <tr>\n",
       "      <th>117445</th>\n",
       "      <td>MainScreenAppear</td>\n",
       "      <td>8459733975219661242</td>\n",
       "      <td>2019-08-04 09:56:49</td>\n",
       "      <td>248</td>\n",
       "    </tr>\n",
       "  </tbody>\n",
       "</table>\n",
       "</div>"
      ],
      "text/plain": [
       "              event_name              user_id     event_timestamp  exp_id\n",
       "117445  MainScreenAppear  8459733975219661242 2019-08-04 09:56:49     248"
      ]
     },
     "execution_count": 7,
     "metadata": {},
     "output_type": "execute_result"
    }
   ],
   "source": [
    "#приведение к верному типу данных\n",
    "df['event_timestamp'] = df['event_timestamp'].astype('datetime64[s]')\n",
    "df.sample()"
   ]
  },
  {
   "cell_type": "code",
   "execution_count": 8,
   "metadata": {},
   "outputs": [
    {
     "data": {
      "text/plain": [
       "413"
      ]
     },
     "execution_count": 8,
     "metadata": {},
     "output_type": "execute_result"
    }
   ],
   "source": [
    "#проверка на дубликаты\n",
    "df.duplicated().sum()"
   ]
  },
  {
   "cell_type": "code",
   "execution_count": 9,
   "metadata": {},
   "outputs": [],
   "source": [
    "#удаление дубликатов\n",
    "df = df.drop_duplicates()"
   ]
  },
  {
   "cell_type": "code",
   "execution_count": 10,
   "metadata": {},
   "outputs": [],
   "source": [
    "#добавление столбца с обозначением контрольных групп и эксперементальной А1, А2 и В\n",
    "df['test_group'] = df['exp_id'].replace(246, 'A1')\n",
    "df['test_group'] = df['test_group'].replace(247, 'A2')\n",
    "df['test_group'] = df['test_group'].replace(248, 'B')"
   ]
  },
  {
   "cell_type": "code",
   "execution_count": 11,
   "metadata": {},
   "outputs": [
    {
     "data": {
      "text/html": [
       "<div>\n",
       "<style scoped>\n",
       "    .dataframe tbody tr th:only-of-type {\n",
       "        vertical-align: middle;\n",
       "    }\n",
       "\n",
       "    .dataframe tbody tr th {\n",
       "        vertical-align: top;\n",
       "    }\n",
       "\n",
       "    .dataframe thead th {\n",
       "        text-align: right;\n",
       "    }\n",
       "</style>\n",
       "<table border=\"1\" class=\"dataframe\">\n",
       "  <thead>\n",
       "    <tr style=\"text-align: right;\">\n",
       "      <th></th>\n",
       "      <th>event_name</th>\n",
       "      <th>user_id</th>\n",
       "      <th>event_timestamp</th>\n",
       "      <th>exp_id</th>\n",
       "      <th>test_group</th>\n",
       "    </tr>\n",
       "  </thead>\n",
       "  <tbody>\n",
       "    <tr>\n",
       "      <th>0</th>\n",
       "      <td>MainScreenAppear</td>\n",
       "      <td>4575588528974610257</td>\n",
       "      <td>2019-07-25 04:43:36</td>\n",
       "      <td>246</td>\n",
       "      <td>A1</td>\n",
       "    </tr>\n",
       "    <tr>\n",
       "      <th>1</th>\n",
       "      <td>MainScreenAppear</td>\n",
       "      <td>7416695313311560658</td>\n",
       "      <td>2019-07-25 11:11:42</td>\n",
       "      <td>246</td>\n",
       "      <td>A1</td>\n",
       "    </tr>\n",
       "    <tr>\n",
       "      <th>2</th>\n",
       "      <td>PaymentScreenSuccessful</td>\n",
       "      <td>3518123091307005509</td>\n",
       "      <td>2019-07-25 11:28:47</td>\n",
       "      <td>248</td>\n",
       "      <td>B</td>\n",
       "    </tr>\n",
       "    <tr>\n",
       "      <th>3</th>\n",
       "      <td>CartScreenAppear</td>\n",
       "      <td>3518123091307005509</td>\n",
       "      <td>2019-07-25 11:28:47</td>\n",
       "      <td>248</td>\n",
       "      <td>B</td>\n",
       "    </tr>\n",
       "    <tr>\n",
       "      <th>4</th>\n",
       "      <td>PaymentScreenSuccessful</td>\n",
       "      <td>6217807653094995999</td>\n",
       "      <td>2019-07-25 11:48:42</td>\n",
       "      <td>248</td>\n",
       "      <td>B</td>\n",
       "    </tr>\n",
       "  </tbody>\n",
       "</table>\n",
       "</div>"
      ],
      "text/plain": [
       "                event_name              user_id     event_timestamp  exp_id  \\\n",
       "0         MainScreenAppear  4575588528974610257 2019-07-25 04:43:36     246   \n",
       "1         MainScreenAppear  7416695313311560658 2019-07-25 11:11:42     246   \n",
       "2  PaymentScreenSuccessful  3518123091307005509 2019-07-25 11:28:47     248   \n",
       "3         CartScreenAppear  3518123091307005509 2019-07-25 11:28:47     248   \n",
       "4  PaymentScreenSuccessful  6217807653094995999 2019-07-25 11:48:42     248   \n",
       "\n",
       "  test_group  \n",
       "0         A1  \n",
       "1         A1  \n",
       "2          B  \n",
       "3          B  \n",
       "4          B  "
      ]
     },
     "execution_count": 11,
     "metadata": {},
     "output_type": "execute_result"
    }
   ],
   "source": [
    "df.head(5)"
   ]
  },
  {
   "cell_type": "code",
   "execution_count": 12,
   "metadata": {},
   "outputs": [
    {
     "data": {
      "text/html": [
       "<div>\n",
       "<style scoped>\n",
       "    .dataframe tbody tr th:only-of-type {\n",
       "        vertical-align: middle;\n",
       "    }\n",
       "\n",
       "    .dataframe tbody tr th {\n",
       "        vertical-align: top;\n",
       "    }\n",
       "\n",
       "    .dataframe thead th {\n",
       "        text-align: right;\n",
       "    }\n",
       "</style>\n",
       "<table border=\"1\" class=\"dataframe\">\n",
       "  <thead>\n",
       "    <tr style=\"text-align: right;\">\n",
       "      <th></th>\n",
       "      <th>test_group</th>\n",
       "      <th>user_id</th>\n",
       "    </tr>\n",
       "  </thead>\n",
       "  <tbody>\n",
       "    <tr>\n",
       "      <th>2</th>\n",
       "      <td>B</td>\n",
       "      <td>2542</td>\n",
       "    </tr>\n",
       "    <tr>\n",
       "      <th>1</th>\n",
       "      <td>A2</td>\n",
       "      <td>2520</td>\n",
       "    </tr>\n",
       "    <tr>\n",
       "      <th>0</th>\n",
       "      <td>A1</td>\n",
       "      <td>2489</td>\n",
       "    </tr>\n",
       "  </tbody>\n",
       "</table>\n",
       "</div>"
      ],
      "text/plain": [
       "  test_group  user_id\n",
       "2          B     2542\n",
       "1         A2     2520\n",
       "0         A1     2489"
      ]
     },
     "execution_count": 12,
     "metadata": {},
     "output_type": "execute_result"
    }
   ],
   "source": [
    "users = (df.groupby('test_group').agg({'user_id':'nunique'})\n",
    "      .reset_index()\n",
    "      .sort_values(by='user_id', ascending=False)\n",
    "     )\n",
    "users"
   ]
  },
  {
   "cell_type": "markdown",
   "metadata": {},
   "source": [
    "> Есть пользователи каждой из трех групп.\n",
    ">\n",
    "> Необходимо проверить, нет ли пользователей, находящихся более чем в 1 группе.\n"
   ]
  },
  {
   "cell_type": "code",
   "execution_count": 13,
   "metadata": {},
   "outputs": [
    {
     "data": {
      "text/plain": [
       "0"
      ]
     },
     "execution_count": 13,
     "metadata": {},
     "output_type": "execute_result"
    }
   ],
   "source": [
    "\n",
    "#проверим группы A1 и A2\n",
    "len(np.intersect1d(df.query('test_group == \"A1\"')['user_id'].unique(), df.query('test_group == \"A2\"')['user_id'].unique()))"
   ]
  },
  {
   "cell_type": "code",
   "execution_count": 14,
   "metadata": {},
   "outputs": [
    {
     "data": {
      "text/plain": [
       "0"
      ]
     },
     "execution_count": 14,
     "metadata": {},
     "output_type": "execute_result"
    }
   ],
   "source": [
    "#проверим группы A1 и B\n",
    "len(np.intersect1d(df.query('test_group == \"A1\"')['user_id'].unique(), df.query('test_group == \"B\"')['user_id'].unique()))"
   ]
  },
  {
   "cell_type": "code",
   "execution_count": 15,
   "metadata": {},
   "outputs": [
    {
     "data": {
      "text/plain": [
       "0"
      ]
     },
     "execution_count": 15,
     "metadata": {},
     "output_type": "execute_result"
    }
   ],
   "source": [
    "#проверим группы A2 и B\n",
    "len(np.intersect1d(df.query('test_group == \"А2\"')['user_id'].unique(), df.query('test_group == \"B\"')['user_id'].unique()))"
   ]
  },
  {
   "cell_type": "markdown",
   "metadata": {},
   "source": [
    "> **Вывод**\n",
    ">\n",
    "> Во всех группах присутствуют уникальные пользователи (один пользователь не состоит в нескольких группах)."
   ]
  },
  {
   "cell_type": "code",
   "execution_count": 16,
   "metadata": {},
   "outputs": [
    {
     "data": {
      "text/html": [
       "<div>\n",
       "<style scoped>\n",
       "    .dataframe tbody tr th:only-of-type {\n",
       "        vertical-align: middle;\n",
       "    }\n",
       "\n",
       "    .dataframe tbody tr th {\n",
       "        vertical-align: top;\n",
       "    }\n",
       "\n",
       "    .dataframe thead th {\n",
       "        text-align: right;\n",
       "    }\n",
       "</style>\n",
       "<table border=\"1\" class=\"dataframe\">\n",
       "  <thead>\n",
       "    <tr style=\"text-align: right;\">\n",
       "      <th></th>\n",
       "      <th>index</th>\n",
       "      <th>event_name</th>\n",
       "    </tr>\n",
       "  </thead>\n",
       "  <tbody>\n",
       "    <tr>\n",
       "      <th>0</th>\n",
       "      <td>MainScreenAppear</td>\n",
       "      <td>119101</td>\n",
       "    </tr>\n",
       "    <tr>\n",
       "      <th>1</th>\n",
       "      <td>OffersScreenAppear</td>\n",
       "      <td>46808</td>\n",
       "    </tr>\n",
       "    <tr>\n",
       "      <th>2</th>\n",
       "      <td>CartScreenAppear</td>\n",
       "      <td>42668</td>\n",
       "    </tr>\n",
       "    <tr>\n",
       "      <th>3</th>\n",
       "      <td>PaymentScreenSuccessful</td>\n",
       "      <td>34118</td>\n",
       "    </tr>\n",
       "    <tr>\n",
       "      <th>4</th>\n",
       "      <td>Tutorial</td>\n",
       "      <td>1018</td>\n",
       "    </tr>\n",
       "  </tbody>\n",
       "</table>\n",
       "</div>"
      ],
      "text/plain": [
       "                     index  event_name\n",
       "0         MainScreenAppear      119101\n",
       "1       OffersScreenAppear       46808\n",
       "2         CartScreenAppear       42668\n",
       "3  PaymentScreenSuccessful       34118\n",
       "4                 Tutorial        1018"
      ]
     },
     "execution_count": 16,
     "metadata": {},
     "output_type": "execute_result"
    }
   ],
   "source": [
    "#посмотрим, сколько раз встречается каждое событие\n",
    "event_count = df['event_name'].value_counts().reset_index()\n",
    "event_count"
   ]
  },
  {
   "cell_type": "code",
   "execution_count": 17,
   "metadata": {},
   "outputs": [
    {
     "data": {
      "text/html": [
       "<div>\n",
       "<style scoped>\n",
       "    .dataframe tbody tr th:only-of-type {\n",
       "        vertical-align: middle;\n",
       "    }\n",
       "\n",
       "    .dataframe tbody tr th {\n",
       "        vertical-align: top;\n",
       "    }\n",
       "\n",
       "    .dataframe thead th {\n",
       "        text-align: right;\n",
       "    }\n",
       "</style>\n",
       "<table border=\"1\" class=\"dataframe\">\n",
       "  <thead>\n",
       "    <tr style=\"text-align: right;\">\n",
       "      <th></th>\n",
       "      <th>event_name</th>\n",
       "      <th>users_count</th>\n",
       "    </tr>\n",
       "  </thead>\n",
       "  <tbody>\n",
       "    <tr>\n",
       "      <th>0</th>\n",
       "      <td>MainScreenAppear</td>\n",
       "      <td>7439</td>\n",
       "    </tr>\n",
       "    <tr>\n",
       "      <th>1</th>\n",
       "      <td>OffersScreenAppear</td>\n",
       "      <td>4613</td>\n",
       "    </tr>\n",
       "    <tr>\n",
       "      <th>2</th>\n",
       "      <td>CartScreenAppear</td>\n",
       "      <td>3749</td>\n",
       "    </tr>\n",
       "    <tr>\n",
       "      <th>3</th>\n",
       "      <td>PaymentScreenSuccessful</td>\n",
       "      <td>3547</td>\n",
       "    </tr>\n",
       "    <tr>\n",
       "      <th>4</th>\n",
       "      <td>Tutorial</td>\n",
       "      <td>847</td>\n",
       "    </tr>\n",
       "  </tbody>\n",
       "</table>\n",
       "</div>"
      ],
      "text/plain": [
       "                event_name  users_count\n",
       "0         MainScreenAppear         7439\n",
       "1       OffersScreenAppear         4613\n",
       "2         CartScreenAppear         3749\n",
       "3  PaymentScreenSuccessful         3547\n",
       "4                 Tutorial          847"
      ]
     },
     "execution_count": 17,
     "metadata": {},
     "output_type": "execute_result"
    }
   ],
   "source": [
    "#посмотрим, сколько пользователей совершали каждое событие\n",
    "event_counts_users = df.groupby('event_name')['user_id'].nunique().sort_values(ascending=False).to_frame().reset_index()\\\n",
    "        .rename(columns={'user_id': 'users_count'}) \n",
    "event_counts_users"
   ]
  },
  {
   "cell_type": "code",
   "execution_count": 18,
   "metadata": {},
   "outputs": [
    {
     "data": {
      "text/html": [
       "<div>\n",
       "<style scoped>\n",
       "    .dataframe tbody tr th:only-of-type {\n",
       "        vertical-align: middle;\n",
       "    }\n",
       "\n",
       "    .dataframe tbody tr th {\n",
       "        vertical-align: top;\n",
       "    }\n",
       "\n",
       "    .dataframe thead th {\n",
       "        text-align: right;\n",
       "    }\n",
       "</style>\n",
       "<table border=\"1\" class=\"dataframe\">\n",
       "  <thead>\n",
       "    <tr style=\"text-align: right;\">\n",
       "      <th>test_group</th>\n",
       "      <th>A1</th>\n",
       "      <th>A2</th>\n",
       "      <th>B</th>\n",
       "      <th>A1+A2</th>\n",
       "    </tr>\n",
       "    <tr>\n",
       "      <th>event_name</th>\n",
       "      <th></th>\n",
       "      <th></th>\n",
       "      <th></th>\n",
       "      <th></th>\n",
       "    </tr>\n",
       "  </thead>\n",
       "  <tbody>\n",
       "    <tr>\n",
       "      <th>MainScreenAppear</th>\n",
       "      <td>2456</td>\n",
       "      <td>2482</td>\n",
       "      <td>2501</td>\n",
       "      <td>4938</td>\n",
       "    </tr>\n",
       "    <tr>\n",
       "      <th>OffersScreenAppear</th>\n",
       "      <td>1545</td>\n",
       "      <td>1530</td>\n",
       "      <td>1538</td>\n",
       "      <td>3075</td>\n",
       "    </tr>\n",
       "    <tr>\n",
       "      <th>CartScreenAppear</th>\n",
       "      <td>1270</td>\n",
       "      <td>1240</td>\n",
       "      <td>1239</td>\n",
       "      <td>2510</td>\n",
       "    </tr>\n",
       "    <tr>\n",
       "      <th>PaymentScreenSuccessful</th>\n",
       "      <td>1202</td>\n",
       "      <td>1160</td>\n",
       "      <td>1185</td>\n",
       "      <td>2362</td>\n",
       "    </tr>\n",
       "  </tbody>\n",
       "</table>\n",
       "</div>"
      ],
      "text/plain": [
       "test_group                 A1    A2     B  A1+A2\n",
       "event_name                                      \n",
       "MainScreenAppear         2456  2482  2501   4938\n",
       "OffersScreenAppear       1545  1530  1538   3075\n",
       "CartScreenAppear         1270  1240  1239   2510\n",
       "PaymentScreenSuccessful  1202  1160  1185   2362"
      ]
     },
     "execution_count": 18,
     "metadata": {},
     "output_type": "execute_result"
    }
   ],
   "source": [
    "all_events_count = df.pivot_table(index='event_name', columns='test_group',values='user_id',aggfunc='nunique')\\\n",
    "                       .sort_values('A1',ascending=False)\n",
    "all_events_count['A1+A2'] = all_events_count['A1'] + all_events_count['A2']\n",
    "all_events_count.drop(['Tutorial'], inplace=True)\n",
    "all_events_count"
   ]
  },
  {
   "cell_type": "markdown",
   "metadata": {},
   "source": [
    "Добавим в таблицу с числом пользователей по группам значение общей грппы объединяющей контрольные группы А1 и А2"
   ]
  },
  {
   "cell_type": "code",
   "execution_count": 19,
   "metadata": {},
   "outputs": [
    {
     "data": {
      "text/html": [
       "<div>\n",
       "<style scoped>\n",
       "    .dataframe tbody tr th:only-of-type {\n",
       "        vertical-align: middle;\n",
       "    }\n",
       "\n",
       "    .dataframe tbody tr th {\n",
       "        vertical-align: top;\n",
       "    }\n",
       "\n",
       "    .dataframe thead th {\n",
       "        text-align: right;\n",
       "    }\n",
       "</style>\n",
       "<table border=\"1\" class=\"dataframe\">\n",
       "  <thead>\n",
       "    <tr style=\"text-align: right;\">\n",
       "      <th></th>\n",
       "      <th>user_id</th>\n",
       "    </tr>\n",
       "    <tr>\n",
       "      <th>test_group</th>\n",
       "      <th></th>\n",
       "    </tr>\n",
       "  </thead>\n",
       "  <tbody>\n",
       "    <tr>\n",
       "      <th>B</th>\n",
       "      <td>2542</td>\n",
       "    </tr>\n",
       "    <tr>\n",
       "      <th>A2</th>\n",
       "      <td>2520</td>\n",
       "    </tr>\n",
       "    <tr>\n",
       "      <th>A1</th>\n",
       "      <td>2489</td>\n",
       "    </tr>\n",
       "    <tr>\n",
       "      <th>A1+A2</th>\n",
       "      <td>4997</td>\n",
       "    </tr>\n",
       "  </tbody>\n",
       "</table>\n",
       "</div>"
      ],
      "text/plain": [
       "            user_id\n",
       "test_group         \n",
       "B              2542\n",
       "A2             2520\n",
       "A1             2489\n",
       "A1+A2          4997"
      ]
     },
     "execution_count": 19,
     "metadata": {},
     "output_type": "execute_result"
    }
   ],
   "source": [
    "users.loc[3] = ['A1+A2', 4997]\n",
    "users = users.set_index(users.columns[0])\n",
    "users"
   ]
  },
  {
   "cell_type": "markdown",
   "metadata": {},
   "source": [
    "Для проверки гипотез воспользуемся **Z-критерием** и применим **метод Бонферрони (поправка Бонферрони)**, так как проводим множественное сравнение. В нашем случае мы будем проводить 16 сравнений, следовательно, bonferroni_alpha будет равно alpha / 16."
   ]
  },
  {
   "cell_type": "markdown",
   "metadata": {},
   "source": [
    "Сформулируем гипотезы:\n",
    "\n",
    "**H0**: Конверсия пользователей в обеих группах равна\n",
    "\n",
    "**H1**: Конверсия в обеих группах не равна"
   ]
  },
  {
   "cell_type": "code",
   "execution_count": 20,
   "metadata": {},
   "outputs": [],
   "source": [
    "#функцию для Z-критерия\n",
    "def print_z_test_with_bonferroni_validation_result(group1, group2, event, alpha): \n",
    "    p1_event = all_events_count.loc[event, group1]\n",
    "    p2_event = all_events_count.loc[event, group2] \n",
    "    p1_users = users.loc[group1, 'user_id'] \n",
    "    p2_users = users.loc[group2, 'user_id'] \n",
    "    p1 = p1_event / p1_users \n",
    "    p2 = p2_event / p2_users \n",
    "    difference = p1 - p2\n",
    "    p_combined = (p1_event + p2_event) / (p1_users + p2_users) \n",
    "    z_value = difference / mth.sqrt(p_combined * (1 - p_combined) * (1 / p1_users + 1 / p2_users))\n",
    "    distr = st.norm(0, 1)\n",
    "    p_value = (1 - distr.cdf(abs(z_value))) * 2\n",
    "    \n",
    "    bonferroni_alpha = alpha / 16\n",
    "    \n",
    "    print('Проверка для групп {} и {}, событие: {}, p-значение: {p_value:.2f}'.format(group1, group2, event, p_value=p_value))\n",
    "    if (p_value < bonferroni_alpha):\n",
    "        print(\"Отвергаем нулевую гипотезу о равенстве конверсии в группах\")\n",
    "    else:\n",
    "        print(\"Не получилось отвергнуть нулевую гипотезу о равенстве конверсии в группах\")"
   ]
  },
  {
   "cell_type": "markdown",
   "metadata": {},
   "source": [
    "**А/А Тест**"
   ]
  },
  {
   "cell_type": "code",
   "execution_count": 21,
   "metadata": {},
   "outputs": [
    {
     "name": "stdout",
     "output_type": "stream",
     "text": [
      "Проверка для групп A1 и A2, событие: MainScreenAppear, p-значение: 0.59\n",
      "Не получилось отвергнуть нулевую гипотезу о равенстве конверсии в группах\n",
      "\n",
      "Проверка для групп A1 и A2, событие: OffersScreenAppear, p-значение: 0.32\n",
      "Не получилось отвергнуть нулевую гипотезу о равенстве конверсии в группах\n",
      "\n",
      "Проверка для групп A1 и A2, событие: CartScreenAppear, p-значение: 0.20\n",
      "Не получилось отвергнуть нулевую гипотезу о равенстве конверсии в группах\n",
      "\n",
      "Проверка для групп A1 и A2, событие: PaymentScreenSuccessful, p-значение: 0.11\n",
      "Не получилось отвергнуть нулевую гипотезу о равенстве конверсии в группах\n",
      "\n"
     ]
    }
   ],
   "source": [
    "for event in all_events_count.index:\n",
    "    print_z_test_with_bonferroni_validation_result('A1', 'A2', event, 0.05)\n",
    "    print()"
   ]
  },
  {
   "cell_type": "markdown",
   "metadata": {},
   "source": [
    "**А/B Тест**"
   ]
  },
  {
   "cell_type": "code",
   "execution_count": 22,
   "metadata": {},
   "outputs": [
    {
     "name": "stdout",
     "output_type": "stream",
     "text": [
      "Проверка для групп A1 и B, событие: MainScreenAppear, p-значение: 0.40\n",
      "Не получилось отвергнуть нулевую гипотезу о равенстве конверсии в группах\n",
      "\n",
      "Проверка для групп A1 и B, событие: OffersScreenAppear, p-значение: 0.25\n",
      "Не получилось отвергнуть нулевую гипотезу о равенстве конверсии в группах\n",
      "\n",
      "Проверка для групп A1 и B, событие: CartScreenAppear, p-значение: 0.11\n",
      "Не получилось отвергнуть нулевую гипотезу о равенстве конверсии в группах\n",
      "\n",
      "Проверка для групп A1 и B, событие: PaymentScreenSuccessful, p-значение: 0.23\n",
      "Не получилось отвергнуть нулевую гипотезу о равенстве конверсии в группах\n",
      "\n"
     ]
    }
   ],
   "source": [
    "#группы А1 и В\n",
    "\n",
    "for event in all_events_count.index:\n",
    "    print_z_test_with_bonferroni_validation_result('A1', 'B', event, 0.05)\n",
    "    print()"
   ]
  },
  {
   "cell_type": "code",
   "execution_count": 23,
   "metadata": {},
   "outputs": [
    {
     "name": "stdout",
     "output_type": "stream",
     "text": [
      "Проверка для групп A2 и B, событие: MainScreenAppear, p-значение: 0.76\n",
      "Не получилось отвергнуть нулевую гипотезу о равенстве конверсии в группах\n",
      "\n",
      "Проверка для групп A2 и B, событие: OffersScreenAppear, p-значение: 0.88\n",
      "Не получилось отвергнуть нулевую гипотезу о равенстве конверсии в группах\n",
      "\n",
      "Проверка для групп A2 и B, событие: CartScreenAppear, p-значение: 0.74\n",
      "Не получилось отвергнуть нулевую гипотезу о равенстве конверсии в группах\n",
      "\n",
      "Проверка для групп A2 и B, событие: PaymentScreenSuccessful, p-значение: 0.68\n",
      "Не получилось отвергнуть нулевую гипотезу о равенстве конверсии в группах\n",
      "\n"
     ]
    }
   ],
   "source": [
    "#группы А2 и В\n",
    "\n",
    "for event in all_events_count.index:\n",
    "    print_z_test_with_bonferroni_validation_result('A2', 'B', event, 0.05)\n",
    "    print()"
   ]
  },
  {
   "cell_type": "code",
   "execution_count": 24,
   "metadata": {},
   "outputs": [
    {
     "name": "stdout",
     "output_type": "stream",
     "text": [
      "Проверка для групп A1+A2 и B, событие: MainScreenAppear, p-значение: 0.12\n",
      "Не получилось отвергнуть нулевую гипотезу о равенстве конверсии в группах\n",
      "\n",
      "Проверка для групп A1+A2 и B, событие: OffersScreenAppear, p-значение: 0.38\n",
      "Не получилось отвергнуть нулевую гипотезу о равенстве конверсии в группах\n",
      "\n",
      "Проверка для групп A1+A2 и B, событие: CartScreenAppear, p-значение: 0.22\n",
      "Не получилось отвергнуть нулевую гипотезу о равенстве конверсии в группах\n",
      "\n",
      "Проверка для групп A1+A2 и B, событие: PaymentScreenSuccessful, p-значение: 0.59\n",
      "Не получилось отвергнуть нулевую гипотезу о равенстве конверсии в группах\n",
      "\n"
     ]
    }
   ],
   "source": [
    "#группы А1+А2 и В\n",
    "\n",
    "for event in all_events_count.index:\n",
    "    print_z_test_with_bonferroni_validation_result('A1+A2', 'B', event, 0.05)\n",
    "    print()"
   ]
  }
 ],
 "metadata": {
  "ExecuteTimeLog": [
   {
    "duration": 1376,
    "start_time": "2022-07-16T20:05:03.061Z"
   },
   {
    "duration": 486,
    "start_time": "2022-07-16T20:05:04.439Z"
   },
   {
    "duration": 11,
    "start_time": "2022-07-16T20:05:04.927Z"
   },
   {
    "duration": 31,
    "start_time": "2022-07-16T20:05:04.940Z"
   },
   {
    "duration": 14,
    "start_time": "2022-07-16T20:05:04.973Z"
   },
   {
    "duration": 33,
    "start_time": "2022-07-16T20:05:04.988Z"
   },
   {
    "duration": 59,
    "start_time": "2022-07-16T20:05:05.023Z"
   },
   {
    "duration": 83,
    "start_time": "2022-07-16T20:05:05.084Z"
   },
   {
    "duration": 59,
    "start_time": "2022-07-16T20:05:05.169Z"
   },
   {
    "duration": 40,
    "start_time": "2022-07-16T20:05:05.231Z"
   },
   {
    "duration": 28,
    "start_time": "2022-07-16T20:05:05.273Z"
   },
   {
    "duration": 42,
    "start_time": "2022-07-16T20:05:05.304Z"
   },
   {
    "duration": 36,
    "start_time": "2022-07-16T20:05:05.348Z"
   },
   {
    "duration": 12,
    "start_time": "2022-07-16T20:05:05.386Z"
   },
   {
    "duration": 24,
    "start_time": "2022-07-16T20:05:05.400Z"
   },
   {
    "duration": 16,
    "start_time": "2022-07-16T20:05:05.426Z"
   },
   {
    "duration": 4,
    "start_time": "2022-07-16T20:05:05.444Z"
   },
   {
    "duration": 19,
    "start_time": "2022-07-16T20:05:05.449Z"
   },
   {
    "duration": 29,
    "start_time": "2022-07-16T20:05:05.470Z"
   },
   {
    "duration": 421,
    "start_time": "2022-07-16T20:05:05.501Z"
   },
   {
    "duration": 20,
    "start_time": "2022-07-16T20:05:05.925Z"
   },
   {
    "duration": 325,
    "start_time": "2022-07-16T20:05:05.947Z"
   },
   {
    "duration": 28,
    "start_time": "2022-07-16T20:05:06.274Z"
   },
   {
    "duration": 12,
    "start_time": "2022-07-16T20:05:06.304Z"
   },
   {
    "duration": 10,
    "start_time": "2022-07-16T20:05:06.317Z"
   },
   {
    "duration": 51,
    "start_time": "2022-07-16T20:05:06.329Z"
   },
   {
    "duration": 45,
    "start_time": "2022-07-16T20:05:06.382Z"
   },
   {
    "duration": 28,
    "start_time": "2022-07-16T20:05:06.430Z"
   },
   {
    "duration": 41,
    "start_time": "2022-07-16T20:05:06.460Z"
   },
   {
    "duration": 15,
    "start_time": "2022-07-16T20:05:06.503Z"
   },
   {
    "duration": 26,
    "start_time": "2022-07-16T20:05:06.520Z"
   },
   {
    "duration": 161,
    "start_time": "2022-07-16T20:05:06.547Z"
   },
   {
    "duration": 104,
    "start_time": "2022-07-16T20:05:06.712Z"
   },
   {
    "duration": 3,
    "start_time": "2022-07-16T20:05:06.818Z"
   },
   {
    "duration": 19,
    "start_time": "2022-07-16T20:05:06.822Z"
   },
   {
    "duration": 65,
    "start_time": "2022-07-16T20:05:06.843Z"
   },
   {
    "duration": 12,
    "start_time": "2022-07-16T20:05:06.910Z"
   },
   {
    "duration": 17,
    "start_time": "2022-07-16T20:05:06.924Z"
   },
   {
    "duration": 28,
    "start_time": "2022-07-16T20:05:06.943Z"
   },
   {
    "duration": 12,
    "start_time": "2022-07-16T20:05:06.972Z"
   },
   {
    "duration": 19,
    "start_time": "2022-07-16T20:05:06.986Z"
   },
   {
    "duration": 19,
    "start_time": "2022-07-16T20:05:07.007Z"
   },
   {
    "duration": 95,
    "start_time": "2022-07-16T20:05:07.027Z"
   },
   {
    "duration": 10,
    "start_time": "2022-07-16T20:05:07.123Z"
   },
   {
    "duration": 7,
    "start_time": "2022-07-16T20:05:07.134Z"
   },
   {
    "duration": 20,
    "start_time": "2022-07-16T20:05:07.143Z"
   },
   {
    "duration": 15,
    "start_time": "2022-07-16T20:05:07.165Z"
   },
   {
    "duration": 20,
    "start_time": "2022-07-16T20:05:07.181Z"
   },
   {
    "duration": 8,
    "start_time": "2022-07-16T20:05:07.202Z"
   },
   {
    "duration": 1147,
    "start_time": "2022-07-16T20:09:35.719Z"
   },
   {
    "duration": 143,
    "start_time": "2022-07-16T20:09:36.868Z"
   },
   {
    "duration": 11,
    "start_time": "2022-07-16T20:09:37.012Z"
   },
   {
    "duration": 23,
    "start_time": "2022-07-16T20:09:37.025Z"
   },
   {
    "duration": 13,
    "start_time": "2022-07-16T20:09:37.049Z"
   },
   {
    "duration": 49,
    "start_time": "2022-07-16T20:09:37.063Z"
   },
   {
    "duration": 57,
    "start_time": "2022-07-16T20:09:37.114Z"
   },
   {
    "duration": 79,
    "start_time": "2022-07-16T20:09:37.173Z"
   },
   {
    "duration": 47,
    "start_time": "2022-07-16T20:09:37.254Z"
   },
   {
    "duration": 27,
    "start_time": "2022-07-16T20:09:37.304Z"
   },
   {
    "duration": 10,
    "start_time": "2022-07-16T20:09:37.333Z"
   },
   {
    "duration": 21,
    "start_time": "2022-07-16T20:09:37.344Z"
   },
   {
    "duration": 45,
    "start_time": "2022-07-16T20:09:37.366Z"
   },
   {
    "duration": 10,
    "start_time": "2022-07-16T20:09:37.413Z"
   },
   {
    "duration": 21,
    "start_time": "2022-07-16T20:09:37.425Z"
   },
   {
    "duration": 14,
    "start_time": "2022-07-16T20:09:37.448Z"
   },
   {
    "duration": 4,
    "start_time": "2022-07-16T20:09:37.465Z"
   },
   {
    "duration": 13,
    "start_time": "2022-07-16T20:09:37.471Z"
   },
   {
    "duration": 31,
    "start_time": "2022-07-16T20:09:37.500Z"
   },
   {
    "duration": 472,
    "start_time": "2022-07-16T20:09:37.533Z"
   },
   {
    "duration": 23,
    "start_time": "2022-07-16T20:09:38.007Z"
   },
   {
    "duration": 350,
    "start_time": "2022-07-16T20:09:38.031Z"
   },
   {
    "duration": 26,
    "start_time": "2022-07-16T20:09:38.383Z"
   },
   {
    "duration": 10,
    "start_time": "2022-07-16T20:09:38.411Z"
   },
   {
    "duration": 10,
    "start_time": "2022-07-16T20:09:38.423Z"
   },
   {
    "duration": 85,
    "start_time": "2022-07-16T20:09:38.434Z"
   },
   {
    "duration": 34,
    "start_time": "2022-07-16T20:09:38.521Z"
   },
   {
    "duration": 45,
    "start_time": "2022-07-16T20:09:38.559Z"
   },
   {
    "duration": 18,
    "start_time": "2022-07-16T20:09:38.606Z"
   },
   {
    "duration": 20,
    "start_time": "2022-07-16T20:09:38.626Z"
   },
   {
    "duration": 24,
    "start_time": "2022-07-16T20:09:38.648Z"
   },
   {
    "duration": 187,
    "start_time": "2022-07-16T20:09:38.674Z"
   },
   {
    "duration": 65,
    "start_time": "2022-07-16T20:09:38.863Z"
   },
   {
    "duration": 4,
    "start_time": "2022-07-16T20:09:38.930Z"
   },
   {
    "duration": 68,
    "start_time": "2022-07-16T20:09:38.935Z"
   },
   {
    "duration": 15,
    "start_time": "2022-07-16T20:09:39.005Z"
   },
   {
    "duration": 15,
    "start_time": "2022-07-16T20:09:39.021Z"
   },
   {
    "duration": 17,
    "start_time": "2022-07-16T20:09:39.037Z"
   },
   {
    "duration": 49,
    "start_time": "2022-07-16T20:09:39.056Z"
   },
   {
    "duration": 9,
    "start_time": "2022-07-16T20:09:39.106Z"
   },
   {
    "duration": 6,
    "start_time": "2022-07-16T20:09:39.116Z"
   },
   {
    "duration": 6,
    "start_time": "2022-07-16T20:09:39.124Z"
   },
   {
    "duration": 101,
    "start_time": "2022-07-16T20:09:39.131Z"
   },
   {
    "duration": 9,
    "start_time": "2022-07-16T20:09:39.234Z"
   },
   {
    "duration": 8,
    "start_time": "2022-07-16T20:09:39.244Z"
   },
   {
    "duration": 13,
    "start_time": "2022-07-16T20:09:39.254Z"
   },
   {
    "duration": 12,
    "start_time": "2022-07-16T20:09:39.269Z"
   },
   {
    "duration": 25,
    "start_time": "2022-07-16T20:09:39.282Z"
   },
   {
    "duration": 13,
    "start_time": "2022-07-16T20:09:39.309Z"
   },
   {
    "duration": 1169,
    "start_time": "2022-07-16T20:26:51.012Z"
   },
   {
    "duration": 159,
    "start_time": "2022-07-16T20:26:52.183Z"
   },
   {
    "duration": 14,
    "start_time": "2022-07-16T20:26:52.344Z"
   },
   {
    "duration": 40,
    "start_time": "2022-07-16T20:26:52.361Z"
   },
   {
    "duration": 15,
    "start_time": "2022-07-16T20:26:52.402Z"
   },
   {
    "duration": 42,
    "start_time": "2022-07-16T20:26:52.419Z"
   },
   {
    "duration": 75,
    "start_time": "2022-07-16T20:26:52.463Z"
   },
   {
    "duration": 77,
    "start_time": "2022-07-16T20:26:52.540Z"
   },
   {
    "duration": 52,
    "start_time": "2022-07-16T20:26:52.619Z"
   },
   {
    "duration": 35,
    "start_time": "2022-07-16T20:26:52.674Z"
   },
   {
    "duration": 10,
    "start_time": "2022-07-16T20:26:52.711Z"
   },
   {
    "duration": 29,
    "start_time": "2022-07-16T20:26:52.723Z"
   },
   {
    "duration": 53,
    "start_time": "2022-07-16T20:26:52.754Z"
   },
   {
    "duration": 11,
    "start_time": "2022-07-16T20:26:52.809Z"
   },
   {
    "duration": 13,
    "start_time": "2022-07-16T20:26:52.821Z"
   },
   {
    "duration": 9,
    "start_time": "2022-07-16T20:26:52.836Z"
   },
   {
    "duration": 4,
    "start_time": "2022-07-16T20:26:52.846Z"
   },
   {
    "duration": 10,
    "start_time": "2022-07-16T20:26:52.852Z"
   },
   {
    "duration": 44,
    "start_time": "2022-07-16T20:26:52.863Z"
   },
   {
    "duration": 427,
    "start_time": "2022-07-16T20:26:52.909Z"
   },
   {
    "duration": 22,
    "start_time": "2022-07-16T20:26:53.338Z"
   },
   {
    "duration": 339,
    "start_time": "2022-07-16T20:26:53.362Z"
   },
   {
    "duration": 18,
    "start_time": "2022-07-16T20:26:53.703Z"
   },
   {
    "duration": 10,
    "start_time": "2022-07-16T20:26:53.722Z"
   },
   {
    "duration": 12,
    "start_time": "2022-07-16T20:26:53.734Z"
   },
   {
    "duration": 69,
    "start_time": "2022-07-16T20:26:53.747Z"
   },
   {
    "duration": 30,
    "start_time": "2022-07-16T20:26:53.818Z"
   },
   {
    "duration": 48,
    "start_time": "2022-07-16T20:26:53.852Z"
   },
   {
    "duration": 32,
    "start_time": "2022-07-16T20:26:53.903Z"
   },
   {
    "duration": 18,
    "start_time": "2022-07-16T20:26:53.937Z"
   },
   {
    "duration": 51,
    "start_time": "2022-07-16T20:26:53.957Z"
   },
   {
    "duration": 151,
    "start_time": "2022-07-16T20:26:54.009Z"
   },
   {
    "duration": 78,
    "start_time": "2022-07-16T20:26:54.162Z"
   },
   {
    "duration": 3,
    "start_time": "2022-07-16T20:26:54.241Z"
   },
   {
    "duration": 63,
    "start_time": "2022-07-16T20:26:54.245Z"
   },
   {
    "duration": 13,
    "start_time": "2022-07-16T20:26:54.310Z"
   },
   {
    "duration": 7,
    "start_time": "2022-07-16T20:26:54.325Z"
   },
   {
    "duration": 13,
    "start_time": "2022-07-16T20:26:54.334Z"
   },
   {
    "duration": 15,
    "start_time": "2022-07-16T20:26:54.348Z"
   },
   {
    "duration": 41,
    "start_time": "2022-07-16T20:26:54.366Z"
   },
   {
    "duration": 6,
    "start_time": "2022-07-16T20:26:54.409Z"
   },
   {
    "duration": 5,
    "start_time": "2022-07-16T20:26:54.417Z"
   },
   {
    "duration": 114,
    "start_time": "2022-07-16T20:26:54.424Z"
   },
   {
    "duration": 9,
    "start_time": "2022-07-16T20:26:54.540Z"
   },
   {
    "duration": 6,
    "start_time": "2022-07-16T20:26:54.551Z"
   },
   {
    "duration": 19,
    "start_time": "2022-07-16T20:26:54.560Z"
   },
   {
    "duration": 22,
    "start_time": "2022-07-16T20:26:54.580Z"
   },
   {
    "duration": 7,
    "start_time": "2022-07-16T20:26:54.603Z"
   },
   {
    "duration": 10,
    "start_time": "2022-07-16T20:26:54.611Z"
   },
   {
    "duration": 1172,
    "start_time": "2022-07-16T20:28:16.478Z"
   },
   {
    "duration": 142,
    "start_time": "2022-07-16T20:28:17.652Z"
   },
   {
    "duration": 11,
    "start_time": "2022-07-16T20:28:17.796Z"
   },
   {
    "duration": 17,
    "start_time": "2022-07-16T20:28:17.808Z"
   },
   {
    "duration": 12,
    "start_time": "2022-07-16T20:28:17.827Z"
   },
   {
    "duration": 31,
    "start_time": "2022-07-16T20:28:17.841Z"
   },
   {
    "duration": 86,
    "start_time": "2022-07-16T20:28:17.873Z"
   },
   {
    "duration": 94,
    "start_time": "2022-07-16T20:28:17.961Z"
   },
   {
    "duration": 50,
    "start_time": "2022-07-16T20:28:18.057Z"
   },
   {
    "duration": 29,
    "start_time": "2022-07-16T20:28:18.110Z"
   },
   {
    "duration": 11,
    "start_time": "2022-07-16T20:28:18.140Z"
   },
   {
    "duration": 22,
    "start_time": "2022-07-16T20:28:18.152Z"
   },
   {
    "duration": 48,
    "start_time": "2022-07-16T20:28:18.175Z"
   },
   {
    "duration": 10,
    "start_time": "2022-07-16T20:28:18.225Z"
   },
   {
    "duration": 21,
    "start_time": "2022-07-16T20:28:18.237Z"
   },
   {
    "duration": 10,
    "start_time": "2022-07-16T20:28:18.259Z"
   },
   {
    "duration": 4,
    "start_time": "2022-07-16T20:28:18.270Z"
   },
   {
    "duration": 34,
    "start_time": "2022-07-16T20:28:18.275Z"
   },
   {
    "duration": 31,
    "start_time": "2022-07-16T20:28:18.311Z"
   },
   {
    "duration": 478,
    "start_time": "2022-07-16T20:28:18.344Z"
   },
   {
    "duration": 22,
    "start_time": "2022-07-16T20:28:18.823Z"
   },
   {
    "duration": 365,
    "start_time": "2022-07-16T20:28:18.846Z"
   },
   {
    "duration": 27,
    "start_time": "2022-07-16T20:28:19.213Z"
   },
   {
    "duration": 11,
    "start_time": "2022-07-16T20:28:19.242Z"
   },
   {
    "duration": 11,
    "start_time": "2022-07-16T20:28:19.255Z"
   },
   {
    "duration": 94,
    "start_time": "2022-07-16T20:28:19.268Z"
   },
   {
    "duration": 44,
    "start_time": "2022-07-16T20:28:19.364Z"
   },
   {
    "duration": 27,
    "start_time": "2022-07-16T20:28:19.412Z"
   },
   {
    "duration": 27,
    "start_time": "2022-07-16T20:28:19.440Z"
   },
   {
    "duration": 54,
    "start_time": "2022-07-16T20:28:19.469Z"
   },
   {
    "duration": 32,
    "start_time": "2022-07-16T20:28:19.525Z"
   },
   {
    "duration": 164,
    "start_time": "2022-07-16T20:28:19.559Z"
   },
   {
    "duration": 89,
    "start_time": "2022-07-16T20:28:19.725Z"
   },
   {
    "duration": 3,
    "start_time": "2022-07-16T20:28:19.816Z"
   },
   {
    "duration": 17,
    "start_time": "2022-07-16T20:28:19.820Z"
   },
   {
    "duration": 69,
    "start_time": "2022-07-16T20:28:19.838Z"
   },
   {
    "duration": 9,
    "start_time": "2022-07-16T20:28:19.909Z"
   },
   {
    "duration": 18,
    "start_time": "2022-07-16T20:28:19.919Z"
   },
   {
    "duration": 21,
    "start_time": "2022-07-16T20:28:19.938Z"
   },
   {
    "duration": 8,
    "start_time": "2022-07-16T20:28:20.001Z"
   },
   {
    "duration": 11,
    "start_time": "2022-07-16T20:28:20.011Z"
   },
   {
    "duration": 8,
    "start_time": "2022-07-16T20:28:20.024Z"
   },
   {
    "duration": 110,
    "start_time": "2022-07-16T20:28:20.035Z"
   },
   {
    "duration": 10,
    "start_time": "2022-07-16T20:28:20.147Z"
   },
   {
    "duration": 6,
    "start_time": "2022-07-16T20:28:20.160Z"
   },
   {
    "duration": 18,
    "start_time": "2022-07-16T20:28:20.168Z"
   },
   {
    "duration": 11,
    "start_time": "2022-07-16T20:28:20.201Z"
   },
   {
    "duration": 20,
    "start_time": "2022-07-16T20:28:20.214Z"
   },
   {
    "duration": 10,
    "start_time": "2022-07-16T20:28:20.236Z"
   },
   {
    "duration": 1168,
    "start_time": "2022-07-16T20:35:58.187Z"
   },
   {
    "duration": 164,
    "start_time": "2022-07-16T20:35:59.358Z"
   },
   {
    "duration": 15,
    "start_time": "2022-07-16T20:35:59.524Z"
   },
   {
    "duration": 38,
    "start_time": "2022-07-16T20:35:59.541Z"
   },
   {
    "duration": 34,
    "start_time": "2022-07-16T20:35:59.581Z"
   },
   {
    "duration": 72,
    "start_time": "2022-07-16T20:35:59.617Z"
   },
   {
    "duration": 95,
    "start_time": "2022-07-16T20:35:59.691Z"
   },
   {
    "duration": 84,
    "start_time": "2022-07-16T20:35:59.789Z"
   },
   {
    "duration": 59,
    "start_time": "2022-07-16T20:35:59.875Z"
   },
   {
    "duration": 33,
    "start_time": "2022-07-16T20:35:59.937Z"
   },
   {
    "duration": 30,
    "start_time": "2022-07-16T20:35:59.971Z"
   },
   {
    "duration": 38,
    "start_time": "2022-07-16T20:36:00.003Z"
   },
   {
    "duration": 35,
    "start_time": "2022-07-16T20:36:00.043Z"
   },
   {
    "duration": 10,
    "start_time": "2022-07-16T20:36:00.080Z"
   },
   {
    "duration": 39,
    "start_time": "2022-07-16T20:36:00.092Z"
   },
   {
    "duration": 26,
    "start_time": "2022-07-16T20:36:00.133Z"
   },
   {
    "duration": 29,
    "start_time": "2022-07-16T20:36:00.161Z"
   },
   {
    "duration": 40,
    "start_time": "2022-07-16T20:36:00.192Z"
   },
   {
    "duration": 43,
    "start_time": "2022-07-16T20:36:00.234Z"
   },
   {
    "duration": 479,
    "start_time": "2022-07-16T20:36:00.279Z"
   },
   {
    "duration": 23,
    "start_time": "2022-07-16T20:36:00.760Z"
   },
   {
    "duration": 384,
    "start_time": "2022-07-16T20:36:00.785Z"
   },
   {
    "duration": 31,
    "start_time": "2022-07-16T20:36:01.171Z"
   },
   {
    "duration": 11,
    "start_time": "2022-07-16T20:36:01.204Z"
   },
   {
    "duration": 19,
    "start_time": "2022-07-16T20:36:01.217Z"
   },
   {
    "duration": 69,
    "start_time": "2022-07-16T20:36:01.238Z"
   },
   {
    "duration": 29,
    "start_time": "2022-07-16T20:36:01.309Z"
   },
   {
    "duration": 28,
    "start_time": "2022-07-16T20:36:01.341Z"
   },
   {
    "duration": 47,
    "start_time": "2022-07-16T20:36:01.371Z"
   },
   {
    "duration": 21,
    "start_time": "2022-07-16T20:36:01.420Z"
   },
   {
    "duration": 39,
    "start_time": "2022-07-16T20:36:01.443Z"
   },
   {
    "duration": 198,
    "start_time": "2022-07-16T20:36:01.484Z"
   },
   {
    "duration": 57,
    "start_time": "2022-07-16T20:36:01.683Z"
   },
   {
    "duration": 3,
    "start_time": "2022-07-16T20:36:01.742Z"
   },
   {
    "duration": 24,
    "start_time": "2022-07-16T20:36:01.800Z"
   },
   {
    "duration": 21,
    "start_time": "2022-07-16T20:36:01.826Z"
   },
   {
    "duration": 26,
    "start_time": "2022-07-16T20:36:01.849Z"
   },
   {
    "duration": 34,
    "start_time": "2022-07-16T20:36:01.876Z"
   },
   {
    "duration": 29,
    "start_time": "2022-07-16T20:36:01.912Z"
   },
   {
    "duration": 23,
    "start_time": "2022-07-16T20:36:01.943Z"
   },
   {
    "duration": 13,
    "start_time": "2022-07-16T20:36:01.968Z"
   },
   {
    "duration": 29,
    "start_time": "2022-07-16T20:36:01.983Z"
   },
   {
    "duration": 116,
    "start_time": "2022-07-16T20:36:02.014Z"
   },
   {
    "duration": 10,
    "start_time": "2022-07-16T20:36:02.131Z"
   },
   {
    "duration": 17,
    "start_time": "2022-07-16T20:36:02.143Z"
   },
   {
    "duration": 39,
    "start_time": "2022-07-16T20:36:02.162Z"
   },
   {
    "duration": 23,
    "start_time": "2022-07-16T20:36:02.203Z"
   },
   {
    "duration": 25,
    "start_time": "2022-07-16T20:36:02.228Z"
   },
   {
    "duration": 18,
    "start_time": "2022-07-16T20:36:02.254Z"
   },
   {
    "duration": 1148,
    "start_time": "2022-07-16T20:49:09.833Z"
   },
   {
    "duration": 150,
    "start_time": "2022-07-16T20:49:10.983Z"
   },
   {
    "duration": 15,
    "start_time": "2022-07-16T20:49:11.136Z"
   },
   {
    "duration": 17,
    "start_time": "2022-07-16T20:49:11.153Z"
   },
   {
    "duration": 29,
    "start_time": "2022-07-16T20:49:11.172Z"
   },
   {
    "duration": 31,
    "start_time": "2022-07-16T20:49:11.203Z"
   },
   {
    "duration": 80,
    "start_time": "2022-07-16T20:49:11.236Z"
   },
   {
    "duration": 75,
    "start_time": "2022-07-16T20:49:11.318Z"
   },
   {
    "duration": 47,
    "start_time": "2022-07-16T20:49:11.403Z"
   },
   {
    "duration": 27,
    "start_time": "2022-07-16T20:49:11.452Z"
   },
   {
    "duration": 25,
    "start_time": "2022-07-16T20:49:11.481Z"
   },
   {
    "duration": 25,
    "start_time": "2022-07-16T20:49:11.508Z"
   },
   {
    "duration": 26,
    "start_time": "2022-07-16T20:49:11.534Z"
   },
   {
    "duration": 10,
    "start_time": "2022-07-16T20:49:11.561Z"
   },
   {
    "duration": 35,
    "start_time": "2022-07-16T20:49:11.573Z"
   },
   {
    "duration": 9,
    "start_time": "2022-07-16T20:49:11.610Z"
   },
   {
    "duration": 135,
    "start_time": "2022-07-16T20:49:11.621Z"
   },
   {
    "duration": 0,
    "start_time": "2022-07-16T20:49:11.758Z"
   },
   {
    "duration": 0,
    "start_time": "2022-07-16T20:49:11.760Z"
   },
   {
    "duration": 0,
    "start_time": "2022-07-16T20:49:11.761Z"
   },
   {
    "duration": 0,
    "start_time": "2022-07-16T20:49:11.762Z"
   },
   {
    "duration": 0,
    "start_time": "2022-07-16T20:49:11.763Z"
   },
   {
    "duration": 0,
    "start_time": "2022-07-16T20:49:11.765Z"
   },
   {
    "duration": 0,
    "start_time": "2022-07-16T20:49:11.766Z"
   },
   {
    "duration": 0,
    "start_time": "2022-07-16T20:49:11.767Z"
   },
   {
    "duration": 0,
    "start_time": "2022-07-16T20:49:11.768Z"
   },
   {
    "duration": 0,
    "start_time": "2022-07-16T20:49:11.770Z"
   },
   {
    "duration": 0,
    "start_time": "2022-07-16T20:49:11.771Z"
   },
   {
    "duration": 0,
    "start_time": "2022-07-16T20:49:11.801Z"
   },
   {
    "duration": 0,
    "start_time": "2022-07-16T20:49:11.803Z"
   },
   {
    "duration": 0,
    "start_time": "2022-07-16T20:49:11.804Z"
   },
   {
    "duration": 0,
    "start_time": "2022-07-16T20:49:11.805Z"
   },
   {
    "duration": 0,
    "start_time": "2022-07-16T20:49:11.807Z"
   },
   {
    "duration": 0,
    "start_time": "2022-07-16T20:49:11.808Z"
   },
   {
    "duration": 0,
    "start_time": "2022-07-16T20:49:11.809Z"
   },
   {
    "duration": 0,
    "start_time": "2022-07-16T20:49:11.810Z"
   },
   {
    "duration": 0,
    "start_time": "2022-07-16T20:49:11.811Z"
   },
   {
    "duration": 0,
    "start_time": "2022-07-16T20:49:11.813Z"
   },
   {
    "duration": 0,
    "start_time": "2022-07-16T20:49:11.814Z"
   },
   {
    "duration": 0,
    "start_time": "2022-07-16T20:49:11.816Z"
   },
   {
    "duration": 0,
    "start_time": "2022-07-16T20:49:11.817Z"
   },
   {
    "duration": 0,
    "start_time": "2022-07-16T20:49:11.818Z"
   },
   {
    "duration": 0,
    "start_time": "2022-07-16T20:49:11.819Z"
   },
   {
    "duration": 0,
    "start_time": "2022-07-16T20:49:11.821Z"
   },
   {
    "duration": 0,
    "start_time": "2022-07-16T20:49:11.822Z"
   },
   {
    "duration": 0,
    "start_time": "2022-07-16T20:49:11.823Z"
   },
   {
    "duration": 0,
    "start_time": "2022-07-16T20:49:11.824Z"
   },
   {
    "duration": 0,
    "start_time": "2022-07-16T20:49:11.825Z"
   },
   {
    "duration": 0,
    "start_time": "2022-07-16T20:49:11.826Z"
   },
   {
    "duration": 0,
    "start_time": "2022-07-16T20:49:11.828Z"
   },
   {
    "duration": 29,
    "start_time": "2022-07-16T20:49:28.854Z"
   },
   {
    "duration": 1104,
    "start_time": "2022-07-16T20:49:41.449Z"
   },
   {
    "duration": 150,
    "start_time": "2022-07-16T20:49:42.555Z"
   },
   {
    "duration": 17,
    "start_time": "2022-07-16T20:49:42.707Z"
   },
   {
    "duration": 22,
    "start_time": "2022-07-16T20:49:42.726Z"
   },
   {
    "duration": 18,
    "start_time": "2022-07-16T20:49:42.750Z"
   },
   {
    "duration": 60,
    "start_time": "2022-07-16T20:49:42.770Z"
   },
   {
    "duration": 72,
    "start_time": "2022-07-16T20:49:42.832Z"
   },
   {
    "duration": 74,
    "start_time": "2022-07-16T20:49:42.906Z"
   },
   {
    "duration": 48,
    "start_time": "2022-07-16T20:49:42.982Z"
   },
   {
    "duration": 36,
    "start_time": "2022-07-16T20:49:43.033Z"
   },
   {
    "duration": 10,
    "start_time": "2022-07-16T20:49:43.071Z"
   },
   {
    "duration": 25,
    "start_time": "2022-07-16T20:49:43.101Z"
   },
   {
    "duration": 33,
    "start_time": "2022-07-16T20:49:43.128Z"
   },
   {
    "duration": 9,
    "start_time": "2022-07-16T20:49:43.163Z"
   },
   {
    "duration": 32,
    "start_time": "2022-07-16T20:49:43.174Z"
   },
   {
    "duration": 10,
    "start_time": "2022-07-16T20:49:43.208Z"
   },
   {
    "duration": 31,
    "start_time": "2022-07-16T20:49:43.219Z"
   },
   {
    "duration": 50,
    "start_time": "2022-07-16T20:49:43.251Z"
   },
   {
    "duration": 6,
    "start_time": "2022-07-16T20:49:43.303Z"
   },
   {
    "duration": 38,
    "start_time": "2022-07-16T20:49:43.311Z"
   },
   {
    "duration": 443,
    "start_time": "2022-07-16T20:49:43.351Z"
   },
   {
    "duration": 15,
    "start_time": "2022-07-16T20:49:43.800Z"
   },
   {
    "duration": 386,
    "start_time": "2022-07-16T20:49:43.818Z"
   },
   {
    "duration": 28,
    "start_time": "2022-07-16T20:49:44.206Z"
   },
   {
    "duration": 14,
    "start_time": "2022-07-16T20:49:44.236Z"
   },
   {
    "duration": 13,
    "start_time": "2022-07-16T20:49:44.252Z"
   },
   {
    "duration": 75,
    "start_time": "2022-07-16T20:49:44.266Z"
   },
   {
    "duration": 41,
    "start_time": "2022-07-16T20:49:44.345Z"
   },
   {
    "duration": 28,
    "start_time": "2022-07-16T20:49:44.401Z"
   },
   {
    "duration": 25,
    "start_time": "2022-07-16T20:49:44.431Z"
   },
   {
    "duration": 44,
    "start_time": "2022-07-16T20:49:44.458Z"
   },
   {
    "duration": 35,
    "start_time": "2022-07-16T20:49:44.504Z"
   },
   {
    "duration": 164,
    "start_time": "2022-07-16T20:49:44.540Z"
   },
   {
    "duration": 107,
    "start_time": "2022-07-16T20:49:44.707Z"
   },
   {
    "duration": 3,
    "start_time": "2022-07-16T20:49:44.816Z"
   },
   {
    "duration": 16,
    "start_time": "2022-07-16T20:49:44.821Z"
   },
   {
    "duration": 16,
    "start_time": "2022-07-16T20:49:44.839Z"
   },
   {
    "duration": 47,
    "start_time": "2022-07-16T20:49:44.857Z"
   },
   {
    "duration": 16,
    "start_time": "2022-07-16T20:49:44.906Z"
   },
   {
    "duration": 15,
    "start_time": "2022-07-16T20:49:44.924Z"
   },
   {
    "duration": 10,
    "start_time": "2022-07-16T20:49:44.941Z"
   },
   {
    "duration": 7,
    "start_time": "2022-07-16T20:49:44.952Z"
   },
   {
    "duration": 6,
    "start_time": "2022-07-16T20:49:44.961Z"
   },
   {
    "duration": 125,
    "start_time": "2022-07-16T20:49:44.968Z"
   },
   {
    "duration": 11,
    "start_time": "2022-07-16T20:49:45.094Z"
   },
   {
    "duration": 17,
    "start_time": "2022-07-16T20:49:45.106Z"
   },
   {
    "duration": 28,
    "start_time": "2022-07-16T20:49:45.124Z"
   },
   {
    "duration": 15,
    "start_time": "2022-07-16T20:49:45.154Z"
   },
   {
    "duration": 25,
    "start_time": "2022-07-16T20:49:45.171Z"
   },
   {
    "duration": 35,
    "start_time": "2022-07-16T20:49:45.198Z"
   },
   {
    "duration": 1200,
    "start_time": "2022-07-16T20:57:40.565Z"
   },
   {
    "duration": 153,
    "start_time": "2022-07-16T20:57:41.767Z"
   },
   {
    "duration": 12,
    "start_time": "2022-07-16T20:57:41.922Z"
   },
   {
    "duration": 20,
    "start_time": "2022-07-16T20:57:41.936Z"
   },
   {
    "duration": 14,
    "start_time": "2022-07-16T20:57:41.957Z"
   },
   {
    "duration": 55,
    "start_time": "2022-07-16T20:57:41.973Z"
   },
   {
    "duration": 81,
    "start_time": "2022-07-16T20:57:42.030Z"
   },
   {
    "duration": 72,
    "start_time": "2022-07-16T20:57:42.113Z"
   },
   {
    "duration": 63,
    "start_time": "2022-07-16T20:57:42.187Z"
   },
   {
    "duration": 27,
    "start_time": "2022-07-16T20:57:42.253Z"
   },
   {
    "duration": 22,
    "start_time": "2022-07-16T20:57:42.282Z"
   },
   {
    "duration": 19,
    "start_time": "2022-07-16T20:57:42.306Z"
   },
   {
    "duration": 25,
    "start_time": "2022-07-16T20:57:42.326Z"
   },
   {
    "duration": 10,
    "start_time": "2022-07-16T20:57:42.352Z"
   },
   {
    "duration": 39,
    "start_time": "2022-07-16T20:57:42.363Z"
   },
   {
    "duration": 9,
    "start_time": "2022-07-16T20:57:42.404Z"
   },
   {
    "duration": 31,
    "start_time": "2022-07-16T20:57:42.414Z"
   },
   {
    "duration": 24,
    "start_time": "2022-07-16T20:57:42.447Z"
   },
   {
    "duration": 117,
    "start_time": "2022-07-16T20:57:42.472Z"
   },
   {
    "duration": 0,
    "start_time": "2022-07-16T20:57:42.601Z"
   },
   {
    "duration": 0,
    "start_time": "2022-07-16T20:57:42.603Z"
   },
   {
    "duration": 0,
    "start_time": "2022-07-16T20:57:42.604Z"
   },
   {
    "duration": 0,
    "start_time": "2022-07-16T20:57:42.605Z"
   },
   {
    "duration": 0,
    "start_time": "2022-07-16T20:57:42.607Z"
   },
   {
    "duration": 0,
    "start_time": "2022-07-16T20:57:42.608Z"
   },
   {
    "duration": 0,
    "start_time": "2022-07-16T20:57:42.609Z"
   },
   {
    "duration": 0,
    "start_time": "2022-07-16T20:57:42.611Z"
   },
   {
    "duration": 0,
    "start_time": "2022-07-16T20:57:42.612Z"
   },
   {
    "duration": 0,
    "start_time": "2022-07-16T20:57:42.614Z"
   },
   {
    "duration": 0,
    "start_time": "2022-07-16T20:57:42.615Z"
   },
   {
    "duration": 0,
    "start_time": "2022-07-16T20:57:42.616Z"
   },
   {
    "duration": 0,
    "start_time": "2022-07-16T20:57:42.617Z"
   },
   {
    "duration": 0,
    "start_time": "2022-07-16T20:57:42.618Z"
   },
   {
    "duration": 0,
    "start_time": "2022-07-16T20:57:42.619Z"
   },
   {
    "duration": 0,
    "start_time": "2022-07-16T20:57:42.620Z"
   },
   {
    "duration": 0,
    "start_time": "2022-07-16T20:57:42.621Z"
   },
   {
    "duration": 0,
    "start_time": "2022-07-16T20:57:42.622Z"
   },
   {
    "duration": 0,
    "start_time": "2022-07-16T20:57:42.623Z"
   },
   {
    "duration": 0,
    "start_time": "2022-07-16T20:57:42.624Z"
   },
   {
    "duration": 0,
    "start_time": "2022-07-16T20:57:42.625Z"
   },
   {
    "duration": 0,
    "start_time": "2022-07-16T20:57:42.626Z"
   },
   {
    "duration": 0,
    "start_time": "2022-07-16T20:57:42.626Z"
   },
   {
    "duration": 0,
    "start_time": "2022-07-16T20:57:42.628Z"
   },
   {
    "duration": 0,
    "start_time": "2022-07-16T20:57:42.629Z"
   },
   {
    "duration": 0,
    "start_time": "2022-07-16T20:57:42.630Z"
   },
   {
    "duration": 0,
    "start_time": "2022-07-16T20:57:42.631Z"
   },
   {
    "duration": 0,
    "start_time": "2022-07-16T20:57:42.632Z"
   },
   {
    "duration": 0,
    "start_time": "2022-07-16T20:57:42.633Z"
   },
   {
    "duration": 0,
    "start_time": "2022-07-16T20:57:42.634Z"
   },
   {
    "duration": 0,
    "start_time": "2022-07-16T20:57:42.635Z"
   },
   {
    "duration": 0,
    "start_time": "2022-07-16T20:57:42.637Z"
   },
   {
    "duration": 0,
    "start_time": "2022-07-16T20:57:42.638Z"
   },
   {
    "duration": 1214,
    "start_time": "2022-07-16T21:00:07.421Z"
   },
   {
    "duration": 166,
    "start_time": "2022-07-16T21:00:08.637Z"
   },
   {
    "duration": 13,
    "start_time": "2022-07-16T21:00:08.805Z"
   },
   {
    "duration": 42,
    "start_time": "2022-07-16T21:00:08.821Z"
   },
   {
    "duration": 19,
    "start_time": "2022-07-16T21:00:08.866Z"
   },
   {
    "duration": 43,
    "start_time": "2022-07-16T21:00:08.887Z"
   },
   {
    "duration": 81,
    "start_time": "2022-07-16T21:00:08.931Z"
   },
   {
    "duration": 71,
    "start_time": "2022-07-16T21:00:09.013Z"
   },
   {
    "duration": 55,
    "start_time": "2022-07-16T21:00:09.085Z"
   },
   {
    "duration": 27,
    "start_time": "2022-07-16T21:00:09.143Z"
   },
   {
    "duration": 10,
    "start_time": "2022-07-16T21:00:09.172Z"
   },
   {
    "duration": 18,
    "start_time": "2022-07-16T21:00:09.201Z"
   },
   {
    "duration": 25,
    "start_time": "2022-07-16T21:00:09.220Z"
   },
   {
    "duration": 10,
    "start_time": "2022-07-16T21:00:09.246Z"
   },
   {
    "duration": 34,
    "start_time": "2022-07-16T21:00:09.258Z"
   },
   {
    "duration": 9,
    "start_time": "2022-07-16T21:00:09.300Z"
   },
   {
    "duration": 46,
    "start_time": "2022-07-16T21:00:09.311Z"
   },
   {
    "duration": 53,
    "start_time": "2022-07-16T21:00:09.359Z"
   },
   {
    "duration": 268,
    "start_time": "2022-07-16T21:00:09.414Z"
   },
   {
    "duration": 237,
    "start_time": "2022-07-16T21:00:09.684Z"
   },
   {
    "duration": 5,
    "start_time": "2022-07-16T21:00:09.922Z"
   },
   {
    "duration": 24,
    "start_time": "2022-07-16T21:00:09.929Z"
   },
   {
    "duration": 421,
    "start_time": "2022-07-16T21:00:09.955Z"
   },
   {
    "duration": 24,
    "start_time": "2022-07-16T21:00:10.377Z"
   },
   {
    "duration": 369,
    "start_time": "2022-07-16T21:00:10.403Z"
   },
   {
    "duration": 27,
    "start_time": "2022-07-16T21:00:10.775Z"
   },
   {
    "duration": 15,
    "start_time": "2022-07-16T21:00:10.804Z"
   },
   {
    "duration": 13,
    "start_time": "2022-07-16T21:00:10.823Z"
   },
   {
    "duration": 72,
    "start_time": "2022-07-16T21:00:10.838Z"
   },
   {
    "duration": 29,
    "start_time": "2022-07-16T21:00:10.912Z"
   },
   {
    "duration": 30,
    "start_time": "2022-07-16T21:00:10.943Z"
   },
   {
    "duration": 44,
    "start_time": "2022-07-16T21:00:10.975Z"
   },
   {
    "duration": 17,
    "start_time": "2022-07-16T21:00:11.021Z"
   },
   {
    "duration": 26,
    "start_time": "2022-07-16T21:00:11.040Z"
   },
   {
    "duration": 244,
    "start_time": "2022-07-16T21:00:11.067Z"
   },
   {
    "duration": 96,
    "start_time": "2022-07-16T21:00:11.313Z"
   },
   {
    "duration": 3,
    "start_time": "2022-07-16T21:00:11.411Z"
   },
   {
    "duration": 24,
    "start_time": "2022-07-16T21:00:11.416Z"
   },
   {
    "duration": 18,
    "start_time": "2022-07-16T21:00:11.441Z"
   },
   {
    "duration": 44,
    "start_time": "2022-07-16T21:00:11.461Z"
   },
   {
    "duration": 22,
    "start_time": "2022-07-16T21:00:11.509Z"
   },
   {
    "duration": 13,
    "start_time": "2022-07-16T21:00:11.534Z"
   },
   {
    "duration": 14,
    "start_time": "2022-07-16T21:00:11.550Z"
   },
   {
    "duration": 35,
    "start_time": "2022-07-16T21:00:11.566Z"
   },
   {
    "duration": 5,
    "start_time": "2022-07-16T21:00:11.603Z"
   },
   {
    "duration": 97,
    "start_time": "2022-07-16T21:00:11.609Z"
   },
   {
    "duration": 9,
    "start_time": "2022-07-16T21:00:11.708Z"
   },
   {
    "duration": 13,
    "start_time": "2022-07-16T21:00:11.719Z"
   },
   {
    "duration": 19,
    "start_time": "2022-07-16T21:00:11.734Z"
   },
   {
    "duration": 8,
    "start_time": "2022-07-16T21:00:11.756Z"
   },
   {
    "duration": 19,
    "start_time": "2022-07-16T21:00:11.766Z"
   },
   {
    "duration": 10,
    "start_time": "2022-07-16T21:00:11.801Z"
   },
   {
    "duration": 1191,
    "start_time": "2022-07-16T21:03:34.625Z"
   },
   {
    "duration": 146,
    "start_time": "2022-07-16T21:03:35.818Z"
   },
   {
    "duration": 11,
    "start_time": "2022-07-16T21:03:35.966Z"
   },
   {
    "duration": 22,
    "start_time": "2022-07-16T21:03:35.979Z"
   },
   {
    "duration": 14,
    "start_time": "2022-07-16T21:03:36.004Z"
   },
   {
    "duration": 34,
    "start_time": "2022-07-16T21:03:36.019Z"
   },
   {
    "duration": 83,
    "start_time": "2022-07-16T21:03:36.055Z"
   },
   {
    "duration": 75,
    "start_time": "2022-07-16T21:03:36.139Z"
   },
   {
    "duration": 38,
    "start_time": "2022-07-16T21:03:36.216Z"
   },
   {
    "duration": 44,
    "start_time": "2022-07-16T21:03:36.257Z"
   },
   {
    "duration": 11,
    "start_time": "2022-07-16T21:03:36.302Z"
   },
   {
    "duration": 31,
    "start_time": "2022-07-16T21:03:36.315Z"
   },
   {
    "duration": 27,
    "start_time": "2022-07-16T21:03:36.348Z"
   },
   {
    "duration": 30,
    "start_time": "2022-07-16T21:03:36.377Z"
   },
   {
    "duration": 20,
    "start_time": "2022-07-16T21:03:36.409Z"
   },
   {
    "duration": 11,
    "start_time": "2022-07-16T21:03:36.431Z"
   },
   {
    "duration": 58,
    "start_time": "2022-07-16T21:03:36.444Z"
   },
   {
    "duration": 25,
    "start_time": "2022-07-16T21:03:36.504Z"
   },
   {
    "duration": 283,
    "start_time": "2022-07-16T21:03:36.530Z"
   },
   {
    "duration": 257,
    "start_time": "2022-07-16T21:03:36.814Z"
   },
   {
    "duration": 6,
    "start_time": "2022-07-16T21:03:37.072Z"
   },
   {
    "duration": 33,
    "start_time": "2022-07-16T21:03:37.080Z"
   },
   {
    "duration": 476,
    "start_time": "2022-07-16T21:03:37.115Z"
   },
   {
    "duration": 18,
    "start_time": "2022-07-16T21:03:37.592Z"
   },
   {
    "duration": 419,
    "start_time": "2022-07-16T21:03:37.612Z"
   },
   {
    "duration": 20,
    "start_time": "2022-07-16T21:03:38.033Z"
   },
   {
    "duration": 13,
    "start_time": "2022-07-16T21:03:38.054Z"
   },
   {
    "duration": 37,
    "start_time": "2022-07-16T21:03:38.070Z"
   },
   {
    "duration": 102,
    "start_time": "2022-07-16T21:03:38.109Z"
   },
   {
    "duration": 90,
    "start_time": "2022-07-16T21:03:38.213Z"
   },
   {
    "duration": 37,
    "start_time": "2022-07-16T21:03:38.305Z"
   },
   {
    "duration": 21,
    "start_time": "2022-07-16T21:03:38.343Z"
   },
   {
    "duration": 16,
    "start_time": "2022-07-16T21:03:38.366Z"
   },
   {
    "duration": 35,
    "start_time": "2022-07-16T21:03:38.383Z"
   },
   {
    "duration": 245,
    "start_time": "2022-07-16T21:03:38.420Z"
   },
   {
    "duration": 134,
    "start_time": "2022-07-16T21:03:38.667Z"
   },
   {
    "duration": 4,
    "start_time": "2022-07-16T21:03:38.803Z"
   },
   {
    "duration": 27,
    "start_time": "2022-07-16T21:03:38.808Z"
   },
   {
    "duration": 13,
    "start_time": "2022-07-16T21:03:38.837Z"
   },
   {
    "duration": 14,
    "start_time": "2022-07-16T21:03:38.852Z"
   },
   {
    "duration": 35,
    "start_time": "2022-07-16T21:03:38.868Z"
   },
   {
    "duration": 17,
    "start_time": "2022-07-16T21:03:38.905Z"
   },
   {
    "duration": 20,
    "start_time": "2022-07-16T21:03:38.924Z"
   },
   {
    "duration": 19,
    "start_time": "2022-07-16T21:03:38.946Z"
   },
   {
    "duration": 25,
    "start_time": "2022-07-16T21:03:38.967Z"
   },
   {
    "duration": 103,
    "start_time": "2022-07-16T21:03:38.994Z"
   },
   {
    "duration": 10,
    "start_time": "2022-07-16T21:03:39.098Z"
   },
   {
    "duration": 18,
    "start_time": "2022-07-16T21:03:39.110Z"
   },
   {
    "duration": 23,
    "start_time": "2022-07-16T21:03:39.129Z"
   },
   {
    "duration": 9,
    "start_time": "2022-07-16T21:03:39.154Z"
   },
   {
    "duration": 33,
    "start_time": "2022-07-16T21:03:39.165Z"
   },
   {
    "duration": 21,
    "start_time": "2022-07-16T21:03:39.199Z"
   }
  ],
  "kernelspec": {
   "display_name": "Python 3.11.0 64-bit",
   "language": "python",
   "name": "python3"
  },
  "language_info": {
   "codemirror_mode": {
    "name": "ipython",
    "version": 3
   },
   "file_extension": ".py",
   "mimetype": "text/x-python",
   "name": "python",
   "nbconvert_exporter": "python",
   "pygments_lexer": "ipython3",
   "version": "3.11.0"
  },
  "toc": {
   "base_numbering": 1,
   "nav_menu": {},
   "number_sections": true,
   "sideBar": true,
   "skip_h1_title": true,
   "title_cell": "Table of Contents",
   "title_sidebar": "Contents",
   "toc_cell": false,
   "toc_position": {},
   "toc_section_display": true,
   "toc_window_display": false
  },
  "vscode": {
   "interpreter": {
    "hash": "50a17cd135f3ff7b94e4d5503d34804a58c061f53563269d9889802dc3de092d"
   }
  }
 },
 "nbformat": 4,
 "nbformat_minor": 2
}
